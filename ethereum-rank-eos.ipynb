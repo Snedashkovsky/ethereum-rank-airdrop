{
 "cells": [
  {
   "cell_type": "code",
   "execution_count": null,
   "metadata": {},
   "outputs": [],
   "source": [
    "from clickhouse_driver import Client\n",
    "import pandas as pd\n",
    "from time import sleep"
   ]
  },
  {
   "cell_type": "code",
   "execution_count": null,
   "metadata": {},
   "outputs": [],
   "source": [
    "import sys\n",
    "import os\n",
    "\n",
    "sys.path.append(os.path.join('./rank'))"
   ]
  },
  {
   "cell_type": "code",
   "execution_count": null,
   "metadata": {},
   "outputs": [],
   "source": [
    "from rank.common.adjacency_list_to_graph import build_graph\n",
    "from rank.common.calculate_spring_rank import calculate_spring_rank\n",
    "from rank.common.graph_to_matrix import build_matrix"
   ]
  },
  {
   "cell_type": "code",
   "execution_count": null,
   "metadata": {},
   "outputs": [],
   "source": [
    "import plotly.plotly as py\n",
    "import plotly.graph_objs as go\n",
    "from plotly.offline import init_notebook_mode, iplot\n"
   ]
  },
  {
   "cell_type": "code",
   "execution_count": null,
   "metadata": {},
   "outputs": [],
   "source": [
    "from pyquery import PyQuery as pq"
   ]
  },
  {
   "cell_type": "code",
   "execution_count": null,
   "metadata": {},
   "outputs": [],
   "source": [
    "from sklearn.neighbors.kde import KernelDensity\n",
    "from scipy.interpolate import interp1d\n",
    "import numpy as np"
   ]
  },
  {
   "cell_type": "code",
   "execution_count": null,
   "metadata": {},
   "outputs": [],
   "source": [
    "init_notebook_mode()"
   ]
  },
  {
   "cell_type": "code",
   "execution_count": null,
   "metadata": {},
   "outputs": [],
   "source": [
    "import networkx as nx"
   ]
  },
  {
   "cell_type": "code",
   "execution_count": null,
   "metadata": {},
   "outputs": [],
   "source": [
    "from tqdm import tqdm_notebook"
   ]
  },
  {
   "cell_type": "code",
   "execution_count": null,
   "metadata": {},
   "outputs": [],
   "source": [
    "%matplotlib inline\n",
    "import matplotlib.pyplot as plt"
   ]
  },
  {
   "cell_type": "code",
   "execution_count": null,
   "metadata": {},
   "outputs": [],
   "source": [
    "client = Client('localhost', port=9001)"
   ]
  },
  {
   "cell_type": "markdown",
   "metadata": {},
   "source": [
    "В статье:\n",
    "- Описание предположений и текущей процедуры генезиса\n",
    "  - Актуальность выбора адресов\n",
    "  - Задача иерархического ранжирования\n",
    "  - Spring Rank - назначение алгоритма\n",
    "  - Предположения - близкие по рангу вершины имеют больший шанс наличия транзакции между ними\n",
    "- Описание примера хорошего промо эйрдропа. \n",
    "  - Краткая статистика дропа (доля активных участников, количество распределенных токенов) - сделано\n",
    "  - Связанный токен - сделано\n",
    "  - Похожие токены - сделано\n",
    "  - Ранги для похожего токена - сделано\n",
    "  - Процесс отсечения адресов для похожего токена - сделано\n",
    "- Описание того, как соотносятся результаты\n",
    "  - Визуализация графа **распределения** с рангами в наибольшем похожем токене\n",
    "  - Отсеченные вершины показаны серым \n",
    "  - Близкие по рангу вершины находятся ближе друг к другу\n",
    "- Вывод\n",
    "  - зависит ли активность от ранга в эфире? \n",
    "  - что еще нужно учесть"
   ]
  },
  {
   "cell_type": "markdown",
   "metadata": {},
   "source": [
    "# Описание задачи\n",
    "\n",
    "Количество участников сети и количество распределяемой между ними репутации - конечные значения, поэтому начальное распределение предполагало выбор адресов в сети Ethereum, которые, скорее всего, являются локальными \"лидерами мнений\". Так далее будем называть адреса, которые в плотно связанном подграфе (сообществе) связаны с наибольшим количеством вершин в нем.\n",
    "\n",
    "Было предложено составлять этот список на основе меры центральности вершин графа транзакций. В качестве алгоритма ранжирования было решено использовать SpringRank. Этот алгоритм предполагает нахождение рангов через минимизацию энергии системы пружин с коэффициентами упругости, пропорциональными разности рангов связываемых вершин. Описанная в статье об этом алгоритме генеративная модель позволяет использовать значения рангов для вычисления количества и направления дуг между вершинами по формулам:\n",
    "\n",
    "$$E_{ij} = c \\exp{-\\frac{\\beta}{2}(s_i - s_j - 1)^2}$$\n",
    "\n",
    "$$p_{ij} = \\frac{1}{1 + \\exp-2\\beta(s_i - s_j)}$$\n",
    "\n",
    "Т.е. количество дуг между вершинами $E_{ij}$ увеличивается при уменьшении разницы их рангов, а количество дуг от вершины с меньшим рангом меньше, чем количество дуг в обратном направлении (эти значения равны соответственно $E_{ij}p_{ij}$ и $E_{ij}(1 - p_{ij})$)\n",
    "\n",
    "Этими свойствами можно воспользоваться при составлении списка для начального распределения. Действительно, предполагаемые \"лидеры мнений\" по условию имеют максимальное количество дуг в некотором подграфе, а это значило бы наличие у соотвествующих им вершин близких рангов. Первое решение, которое приходит в голову - провести оценку плотности рангов, выделить участки максимальной плотности (кластеры) и в итоговый список помещать адреса из каждого кластера, имеющие максимальную плотность в окрестности соответствующего им ранга."
   ]
  },
  {
   "cell_type": "markdown",
   "metadata": {},
   "source": [
    "# Демонстрация работы\n",
    "\n",
    "Работает ли такой способ выбора лидеров мнений на самом деле? Сопоставим адреса, выбранные описанным выше способом, с адресами, активными во время одного из последних больших распределений ERC-20 токена в сети Ethereum - эйрдропа промо-токена проекта HEAL (HEALP)\n",
    "\n",
    "Эйрдроп HEALP был проведен среди 1.3M участников, менее 1000 из них использовали его для получения основного токена проекта HEAL. Промо-токен получали все адреса, которые имели на балансе более 0.1 ETH. "
   ]
  },
  {
   "cell_type": "markdown",
   "metadata": {},
   "source": [
    "Лидеров мнений будем искать в графе транзакций проектов, похожих на HEAL. Можно увидеть, что владельцы этого токена отправляли хотя бы одну транзакцию следующих ERC-20 токенов: "
   ]
  },
  {
   "cell_type": "code",
   "execution_count": null,
   "metadata": {},
   "outputs": [],
   "source": [
    "MAIN_TOKEN_ADDRESS = \"0xf6fd82dedbbe0ffadb5e1ecc2a283ab52b9ed2b0\"\n",
    "PROMO_TOKEN_ADDRESS = \"0x7b2f9706cd8473b4f5b7758b0171a9933fc6c4d6\""
   ]
  },
  {
   "cell_type": "code",
   "execution_count": null,
   "metadata": {
    "scrolled": false
   },
   "outputs": [],
   "source": [
    "similar_tokens = client.execute(\"\"\"\n",
    "    SELECT token, holders, transactions FROM (\n",
    "        SELECT token, count(distinct(from)) AS holders\n",
    "        FROM ethereum_token_transaction_mv\n",
    "        WHERE from in(\n",
    "            SELECT from \n",
    "            FROM ethereum_token_transaction_mv\n",
    "            WHERE token = '{}'\n",
    "        )\n",
    "        GROUP BY token\n",
    "    )\n",
    "    ANY INNER JOIN (\n",
    "        SELECT token, count(*) AS transactions\n",
    "        FROM ethereum_token_transaction_mv\n",
    "        GROUP BY token\n",
    "    )\n",
    "    USING token\n",
    "    ORDER BY holders DESC\n",
    "\"\"\".format(MAIN_TOKEN_ADDRESS))"
   ]
  },
  {
   "cell_type": "code",
   "execution_count": null,
   "metadata": {},
   "outputs": [],
   "source": [
    "similar_tokens_df = pd.DataFrame(similar_tokens, columns=[\"token\", \"holders\", \"transactions\"])"
   ]
  },
  {
   "cell_type": "code",
   "execution_count": null,
   "metadata": {
    "scrolled": true
   },
   "outputs": [],
   "source": [
    "most_similar_tokens_df = similar_tokens_df.sort_values([\"holders\", \"transactions\"], ascending=[0, 0]).head()"
   ]
  },
  {
   "cell_type": "code",
   "execution_count": null,
   "metadata": {},
   "outputs": [],
   "source": [
    "most_similar_tokens = [token for token in most_similar_tokens_df[\"token\"].tolist() if token not in [MAIN_TOKEN_ADDRESS, PROMO_TOKEN_ADDRESS]]"
   ]
  },
  {
   "cell_type": "code",
   "execution_count": null,
   "metadata": {},
   "outputs": [],
   "source": [
    "most_similar_token_string = \",\".join([\"'{}'\".format(token) for token in most_similar_tokens])"
   ]
  },
  {
   "cell_type": "code",
   "execution_count": 95,
   "metadata": {},
   "outputs": [
    {
     "data": {
      "text/html": [
       "<div>\n",
       "<style scoped>\n",
       "    .dataframe tbody tr th:only-of-type {\n",
       "        vertical-align: middle;\n",
       "    }\n",
       "\n",
       "    .dataframe tbody tr th {\n",
       "        vertical-align: top;\n",
       "    }\n",
       "\n",
       "    .dataframe thead th {\n",
       "        text-align: right;\n",
       "    }\n",
       "</style>\n",
       "<table border=\"1\" class=\"dataframe\">\n",
       "  <thead>\n",
       "    <tr style=\"text-align: right;\">\n",
       "      <th></th>\n",
       "      <th>holders</th>\n",
       "      <th>transactions</th>\n",
       "    </tr>\n",
       "    <tr>\n",
       "      <th>token</th>\n",
       "      <th></th>\n",
       "      <th></th>\n",
       "    </tr>\n",
       "  </thead>\n",
       "  <tbody>\n",
       "    <tr>\n",
       "      <th>0xf6fd82dedbbe0ffadb5e1ecc2a283ab52b9ed2b0</th>\n",
       "      <td>158</td>\n",
       "      <td>1857</td>\n",
       "    </tr>\n",
       "    <tr>\n",
       "      <th>0x358d12436080a01a16f711014610f8a4c2c2d233</th>\n",
       "      <td>36</td>\n",
       "      <td>167067</td>\n",
       "    </tr>\n",
       "    <tr>\n",
       "      <th>0x80bc5512561c7f85a3a9508c7df7901b370fa1df</th>\n",
       "      <td>32</td>\n",
       "      <td>63171</td>\n",
       "    </tr>\n",
       "    <tr>\n",
       "      <th>0x46b9ad944d1059450da1163511069c718f699d31</th>\n",
       "      <td>31</td>\n",
       "      <td>132022</td>\n",
       "    </tr>\n",
       "    <tr>\n",
       "      <th>0x4ceda7906a5ed2179785cd3a40a69ee8bc99c466</th>\n",
       "      <td>29</td>\n",
       "      <td>163121</td>\n",
       "    </tr>\n",
       "  </tbody>\n",
       "</table>\n",
       "</div>"
      ],
      "text/plain": [
       "                                            holders  transactions\n",
       "token                                                            \n",
       "0xf6fd82dedbbe0ffadb5e1ecc2a283ab52b9ed2b0      158          1857\n",
       "0x358d12436080a01a16f711014610f8a4c2c2d233       36        167067\n",
       "0x80bc5512561c7f85a3a9508c7df7901b370fa1df       32         63171\n",
       "0x46b9ad944d1059450da1163511069c718f699d31       31        132022\n",
       "0x4ceda7906a5ed2179785cd3a40a69ee8bc99c466       29        163121"
      ]
     },
     "execution_count": 95,
     "metadata": {},
     "output_type": "execute_result"
    }
   ],
   "source": [
    "most_similar_tokens_df.set_index(\"token\")"
   ]
  },
  {
   "cell_type": "markdown",
   "metadata": {},
   "source": [
    "## Ранжирование вершин\n",
    "Ранжировать вершины будем в графе всех транзакций токенов, похожих на HEAL. Для того, чтобы избежать влияния выбросов на дальнейший анализ, сузим границы диапазона значений до квантилей уровня 0.01% и 99.99%"
   ]
  },
  {
   "cell_type": "code",
   "execution_count": null,
   "metadata": {},
   "outputs": [],
   "source": [
    "similar_transactions = client.execute(\"\"\"\n",
    "    SELECT from, to\n",
    "    FROM ethereum_token_transaction_mv\n",
    "    WHERE \n",
    "        token in({})\n",
    "        AND \n",
    "        from != '0x0000000000000000000000000000000000000000'\n",
    "\"\"\".format(most_similar_token_string))"
   ]
  },
  {
   "cell_type": "code",
   "execution_count": null,
   "metadata": {},
   "outputs": [],
   "source": [
    "similar_transactions_df = pd.DataFrame(similar_transactions, columns=[\"from\", \"to\"]).groupby([\"from\", \"to\"]).size().reset_index()"
   ]
  },
  {
   "cell_type": "code",
   "execution_count": null,
   "metadata": {},
   "outputs": [],
   "source": [
    "graph = nx.DiGraph()\n",
    "graph.add_weighted_edges_from(similar_transactions_df.values)\n",
    "nodes = list(graph.nodes)"
   ]
  },
  {
   "cell_type": "code",
   "execution_count": null,
   "metadata": {},
   "outputs": [],
   "source": [
    "A = build_matrix(graph, nodes)"
   ]
  },
  {
   "cell_type": "code",
   "execution_count": null,
   "metadata": {},
   "outputs": [],
   "source": [
    "iterations, raw_rank = calculate_spring_rank(A)\n",
    "rank_df = pd.DataFrame(list(zip(nodes, raw_rank)), columns=[\"address\", \"rank\"]).set_index(\"address\").loc[nodes]"
   ]
  },
  {
   "cell_type": "code",
   "execution_count": null,
   "metadata": {},
   "outputs": [],
   "source": [
    "rank_min = rank_df[\"rank\"].quantile(0.001)\n",
    "rank_max = rank_df[\"rank\"].quantile(0.999)\n",
    "ranks = ((rank_df[\"rank\"] - rank_min) / (rank_max - rank_min) * 100).apply(lambda x: min(max(x, 0), 100))"
   ]
  },
  {
   "cell_type": "markdown",
   "metadata": {},
   "source": [
    "# Кластеризация и отсечение адресов\n",
    "После подсчета рангов с помощью SpringRank необходимо найти кластеры. Для этих целей в случае небольшого количества рангов можно воспользоваться алгоритмом MeanShift, который хорошо подходит для кластеризации одномерных данных при отсутствии фиксированного количества кластеров. Однако в графе транзакций Ethereum находится ~ 40M адресов, и цифра настолько велика для временной сложности этого алгоритма (которая оценивается как $O(n^2)$ при ограничении числа итераций, где $n$ - количество точек), что сильно увеличивает количество выпитых чашек кофе между запуском и получением результата.\n",
    "\n",
    "Вместо MeanShift был предложен способ нахождения локальных экстремумов, который подразумевал простой поиск минимальных и максимальных значений в пределах некоторого скользящего окна для значений оценки плотности. Кластером в этом случае можно считать отрезок между двумя локальными минимумами, содержащий локальный максимум. Существуют реализации используемого в этом случае алгоритм оценки плотности KDE с временной сложностью $O(n)$, что применимо в данном случае\n",
    "\n",
    "Важно отметить, что перед поиском экстремумов необходимо линейно интерполировать значения KDE с фиксированным шагом сетки, поскольку в исходной оценке плотности в окрестности локального максимума лежит гораздо большее количество точек, нежели в окрестности локального минимума, что делает затруднительным выбор размера скользящего окна."
   ]
  },
  {
   "cell_type": "code",
   "execution_count": null,
   "metadata": {},
   "outputs": [],
   "source": [
    "def find_name(address, error=0):\n",
    "    if error > 5:\n",
    "        return \"\"\n",
    "    try:\n",
    "        document = pq(\"https://etherscan.io/address/{}\".format(address))\n",
    "        error_string = document(\"#ContentPlaceHolder1_lblAdResult + br + br + font\").text()\n",
    "        if \"Sorry, You have reached your maximum request limit for this resource\" in error_string:\n",
    "            print(\"Error occured!\")\n",
    "            sleep(5)\n",
    "            return find_name(address, error + 1)\n",
    "        else:\n",
    "            name = document(\"[title=NameTag]\").text()\n",
    "            return name\n",
    "    except KeyboardInterrupt as e:\n",
    "        print(\"Interrupted\")\n",
    "        raise e\n",
    "    except Exception as e:\n",
    "        print(address)\n",
    "        sleep(5)\n",
    "        return find_name(address, error + 1)"
   ]
  },
  {
   "cell_type": "code",
   "execution_count": null,
   "metadata": {
    "scrolled": true
   },
   "outputs": [],
   "source": [
    "nodes_df = ranks.to_frame()"
   ]
  },
  {
   "cell_type": "code",
   "execution_count": null,
   "metadata": {},
   "outputs": [],
   "source": [
    "nodes_df.loc[[a for a, _ in graph.degree], \"degree\"] = [b for _, b in graph.degree]"
   ]
  },
  {
   "cell_type": "code",
   "execution_count": null,
   "metadata": {},
   "outputs": [],
   "source": [
    "big_nodes = nodes_df[nodes_df[\"degree\"] > 10]\n",
    "nodes_df[\"name\"] = \"\"\n",
    "nodes_df.loc[big_nodes.index, \"name\"] = [find_name(address) for address in tqdm_notebook(big_nodes.index)]"
   ]
  },
  {
   "cell_type": "code",
   "execution_count": null,
   "metadata": {},
   "outputs": [],
   "source": [
    "kde = KernelDensity()\n",
    "X = ranks.values.reshape(-1, 1)\n",
    "kde.fit(X)\n",
    "kde_out = np.exp(kde.score_samples(X))"
   ]
  },
  {
   "cell_type": "code",
   "execution_count": null,
   "metadata": {},
   "outputs": [],
   "source": [
    "kde_interpolation = interp1d(X.reshape(-1), kde_out)\n",
    "grid = np.linspace(ranks.min(), ranks.max(), ranks.shape[0] * 10)\n",
    "kde_values = kde_interpolation(grid)"
   ]
  },
  {
   "cell_type": "code",
   "execution_count": null,
   "metadata": {},
   "outputs": [],
   "source": [
    "WINDOW_SIZE = 20\n",
    "\n",
    "kde_values_df = pd.DataFrame({\"rank\": grid, \"kde\": kde_values}).set_index(\"rank\")\n",
    "kde_values_df[\"min\"] = kde_values_df[\"kde\"].rolling(WINDOW_SIZE, center=True).min().fillna(kde_values_df[\"kde\"][0:WINDOW_SIZE].min())\n",
    "kde_values_df[\"max\"] = kde_values_df[\"kde\"].rolling(WINDOW_SIZE, center=True).max().fillna(kde_values_df[\"kde\"][0:WINDOW_SIZE].max())\n",
    "kde_values_df[\"is_min\"] = kde_values_df[\"kde\"] == kde_values_df[\"min\"]\n",
    "kde_values_df[\"is_max\"] = kde_values_df[\"kde\"] == kde_values_df[\"max\"]"
   ]
  },
  {
   "cell_type": "code",
   "execution_count": null,
   "metadata": {},
   "outputs": [],
   "source": [
    "cluster_starts = []\n",
    "was_max = False\n",
    "for rank, row in kde_values_df.iterrows():\n",
    "    if row[\"is_min\"] and was_max:\n",
    "        cluster_starts.append(rank)\n",
    "        was_max = False\n",
    "    if row[\"is_max\"]:\n",
    "        was_max = True"
   ]
  },
  {
   "cell_type": "code",
   "execution_count": null,
   "metadata": {},
   "outputs": [],
   "source": [
    "clusters = []\n",
    "nodes_df[\"cluster\"] = nodes_df[\"rank\"].apply(lambda x: len([c for c in cluster_starts if c < x]))\n",
    "nodes_df[\"kde\"] = kde_out[np.argsort(nodes_df[\"rank\"].tolist())]"
   ]
  },
  {
   "cell_type": "code",
   "execution_count": null,
   "metadata": {},
   "outputs": [],
   "source": [
    "nodes_df.shape"
   ]
  },
  {
   "cell_type": "code",
   "execution_count": null,
   "metadata": {},
   "outputs": [],
   "source": [
    "chosen_addresses = []\n",
    "CHOSEN_ADDRESSES = 1000\n",
    "for cluster in nodes_df[\"cluster\"].unique():\n",
    "    cluster_nodes = nodes_df[nodes_df[\"cluster\"] == cluster].sort_values(\"kde\", ascending=False)\n",
    "    cluster_pie = cluster_nodes.shape[0] / nodes_df.shape[0]\n",
    "    chosen_size = max(int(CHOSEN_ADDRESSES*cluster_pie), 1)\n",
    "    chosen_addresses += cluster_nodes.iloc[:chosen_size].index.tolist()"
   ]
  },
  {
   "cell_type": "code",
   "execution_count": null,
   "metadata": {},
   "outputs": [],
   "source": [
    "kde_values_df.to_csv(\"kde_values.csv\")"
   ]
  },
  {
   "cell_type": "code",
   "execution_count": null,
   "metadata": {},
   "outputs": [],
   "source": [
    "nodes_df.to_csv(\"nodes.csv\")"
   ]
  },
  {
   "cell_type": "markdown",
   "metadata": {},
   "source": [
    "Ниже приведен интерполированный график плотности рангов с отмеченными на нем найденными локальными экстремумами (максимумы - зеленый, минимумы - оранжевый). Отдельно отмечены ранги крупных адресов, которые могут пользоваться популярностью в том числе у владельцев токенов проектов, похожих на HEAL. Можно заметить, что многие из них находятся возле локальных максимумов."
   ]
  },
  {
   "cell_type": "code",
   "execution_count": 94,
   "metadata": {},
   "outputs": [
    {
     "data": {
      "application/vnd.jupyter.widget-view+json": {
       "model_id": "f41c9106387d4a8da2d19a675be1b882",
       "version_major": 2,
       "version_minor": 0
      },
      "text/plain": [
       "HBox(children=(IntProgress(value=0, max=36), HTML(value='')))"
      ]
     },
     "metadata": {},
     "output_type": "display_data"
    },
    {
     "data": {
      "text/plain": [
       "[<matplotlib.lines.Line2D at 0x7f03ccdf5da0>]"
      ]
     },
     "execution_count": 94,
     "metadata": {},
     "output_type": "execute_result"
    },
    {
     "data": {
      "image/png": "[encoded data removed]",
      "text/plain": [
       "<matplotlib.figure.Figure at 0x7f03f95c7550>"
      ]
     },
     "metadata": {},
     "output_type": "display_data"
    }
   ],
   "source": [
    "plt.figure(figsize=(20, 5))\n",
    "plt.plot(kde_values_df.index, kde_values_df.kde)\n",
    "minimas = kde_values_df[kde_values_df[\"is_min\"]]\n",
    "plt.plot(minimas.index, minimas.kde, \"o\")\n",
    "maximas = kde_values_df[kde_values_df[\"is_max\"]]\n",
    "plt.plot(maximas.index, maximas.kde, \"o\")\n",
    "index = 0\n",
    "for address, node in tqdm_notebook(nodes_df[nodes_df[\"name\"] != \"\"].iterrows(), total=nodes_df[nodes_df[\"name\"] != \"\"].shape[0]):\n",
    "    plt.axvline(node[\"rank\"])\n",
    "    plt.text(node[\"rank\"] - (1 - index % 2)*1, (index % 2) * 0.02 + 0.03, node[\"name\"],rotation=90)\n",
    "    index += 1\n",
    "plt.plot(nodes_df.loc[chosen_addresses][\"rank\"], [0] * len(chosen_addresses), \".\", alpha=0.2)"
   ]
  },
  {
   "cell_type": "markdown",
   "metadata": {},
   "source": [
    "# Связь рангов и активности (TBD)\n",
    "Проверить, насколько активны были \"лидеры мнений\" похожих на HEAL проектов во время раздачи токена можно при сопоставлении адресов участников эйрдропа с их рангами. Граф участников и связей между ними представлен ниже. \n",
    "\n",
    "Можно видеть, что (составить визуализацию и уточнить). То есть, если бы HEALP раздавался бы только тысяче \"лидеров мнений\", среди участников было бы ...  активных."
   ]
  },
  {
   "cell_type": "code",
   "execution_count": null,
   "metadata": {},
   "outputs": [],
   "source": [
    "transactions = client.execute(\"\"\"\n",
    "    SELECT from, to\n",
    "    FROM ethereum_token_transaction_mv\n",
    "    WHERE \n",
    "        token = '{}'\n",
    "\"\"\".format(PROMO_TOKEN_ADDRESS))"
   ]
  },
  {
   "cell_type": "code",
   "execution_count": null,
   "metadata": {},
   "outputs": [],
   "source": [
    "transactions_df = pd.DataFrame(transactions, columns=[\"from\", \"to\"]).groupby([\"from\", \"to\"]).size().reset_index()"
   ]
  },
  {
   "cell_type": "code",
   "execution_count": null,
   "metadata": {},
   "outputs": [],
   "source": [
    "addresses_df = transactions_df.groupby(\"from\")[\"to\"].nunique()\n",
    "addresses = addresses_df[addresses_df > 1].index\n",
    "addresses = [a for a in addresses if a in nodes_df.index]\n",
    "len(addresses)"
   ]
  },
  {
   "cell_type": "code",
   "execution_count": null,
   "metadata": {},
   "outputs": [],
   "source": [
    "filtered_transactions_df = transactions_df[transactions_df[\"from\"].isin(addresses) & transactions_df[\"to\"].isin(addresses)].copy()"
   ]
  },
  {
   "cell_type": "code",
   "execution_count": null,
   "metadata": {},
   "outputs": [],
   "source": [
    "filtered_transactions_df = transactions_df[transactions_df[\"from\"].isin(addresses) & transactions_df[\"to\"].isin(addresses)].copy()"
   ]
  },
  {
   "cell_type": "code",
   "execution_count": null,
   "metadata": {
    "scrolled": true
   },
   "outputs": [],
   "source": [
    "filtered_transactions_df.shape[0]"
   ]
  },
  {
   "cell_type": "code",
   "execution_count": null,
   "metadata": {},
   "outputs": [],
   "source": [
    "filtered_transactions_df[\"from_rank\"] = nodes_df.loc[filtered_transactions_df[\"from\"]][\"rank\"].tolist()\n",
    "filtered_transactions_df[\"to_rank\"] = nodes_df.loc[filtered_transactions_df[\"from\"]][\"rank\"].tolist()\n",
    "filtered_transactions_df[\"weight\"] = 1 / ((filtered_transactions_df[\"from_rank\"] - filtered_transactions_df[\"to_rank\"]) - 1) ** 2"
   ]
  },
  {
   "cell_type": "code",
   "execution_count": null,
   "metadata": {},
   "outputs": [],
   "source": [
    "graph = nx.DiGraph()\n",
    "graph.add_weighted_edges_from(filtered_transactions_df[[\"from\", \"to\", \"weight\"]].values)\n",
    "nodes = list(graph.nodes)"
   ]
  },
  {
   "cell_type": "code",
   "execution_count": null,
   "metadata": {
    "scrolled": false
   },
   "outputs": [],
   "source": [
    "pos = nx.spring_layout(graph)\n",
    "for n, (x, y) in tqdm_notebook(pos.items()):\n",
    "    graph.node[n]['pos'] = (x, y)"
   ]
  },
  {
   "cell_type": "code",
   "execution_count": null,
   "metadata": {},
   "outputs": [],
   "source": [
    "edge_trace = go.Scatter(\n",
    "    x=[],\n",
    "    y=[],\n",
    "    line=dict(width=0.5,color='#888'),\n",
    "    hoverinfo='none',\n",
    "    mode='lines')\n",
    "\n",
    "for edge in tqdm_notebook(graph.edges()):\n",
    "    x0, y0 = graph.node[edge[0]]['pos']\n",
    "    x1, y1 = graph.node[edge[1]]['pos']\n",
    "    edge_trace['x'] += tuple([x0, x1, None])\n",
    "    edge_trace['y'] += tuple([y0, y1, None])"
   ]
  },
  {
   "cell_type": "code",
   "execution_count": null,
   "metadata": {},
   "outputs": [],
   "source": [
    "node_trace = go.Scatter(\n",
    "    x=[],\n",
    "    y=[],\n",
    "    text=[],\n",
    "    mode='markers',\n",
    "    hoverinfo='text',\n",
    "    marker=dict(\n",
    "        showscale=True,\n",
    "        colorscale='Rainbow',\n",
    "        reversescale=True,\n",
    "        color=[],\n",
    "        size=10,\n",
    "        colorbar=dict(\n",
    "            thickness=15,\n",
    "            title='Node Rank',\n",
    "            xanchor='left',\n",
    "            titleside='right'\n",
    "        ),\n",
    "        line=dict(width=2)))\n",
    "\n",
    "for node in tqdm_notebook(graph.nodes()):\n",
    "    x, y = graph.node[node]['pos']\n",
    "    node_trace['x'] += tuple([x])\n",
    "    node_trace['y'] += tuple([y])"
   ]
  },
  {
   "cell_type": "code",
   "execution_count": null,
   "metadata": {},
   "outputs": [],
   "source": [
    "node_trace['marker']['color'] = nodes_df[\"rank\"].loc[list(graph.nodes())].tolist()\n",
    "# node_trace[\"marker\"]['size'] = nodes_df[\"name\"].apply(get_size)\n",
    "node_trace['text'] = nodes_df[\"name\"]"
   ]
  },
  {
   "cell_type": "code",
   "execution_count": null,
   "metadata": {},
   "outputs": [],
   "source": [
    "fig = go.Figure(data=[edge_trace, node_trace],\n",
    "             layout=go.Layout(\n",
    "                title='Ranks',\n",
    "                titlefont=dict(size=16),\n",
    "                showlegend=False,\n",
    "                hovermode='closest',\n",
    "                margin=dict(b=20,l=5,r=5,t=40),\n",
    "                xaxis=dict(showgrid=False, zeroline=False, showticklabels=False),\n",
    "                yaxis=dict(showgrid=False, zeroline=False, showticklabels=False)))\n",
    "\n",
    "py.iplot(fig, filename='networkx')"
   ]
  },
  {
   "cell_type": "markdown",
   "metadata": {},
   "source": [
    "# Вывод (TBD)"
   ]
  },
  {
   "cell_type": "markdown",
   "metadata": {},
   "source": [
    "...\n",
    "\n",
    "Важно отметить, что в силу использования принципа максимального правдоподобия, результаты работы SpringRank без применения регуляризации могут оказаться статистически незначимыми для определенных графов. На данный момент вопрос оценки статистической значимости полученных рангов выносится за пределы этой статьи"
   ]
  }
 ],
 "metadata": {
  "kernelspec": {
   "display_name": "Python 3",
   "language": "python",
   "name": "python3"
  },
  "language_info": {
   "codemirror_mode": {
    "name": "ipython",
    "version": 3
   },
   "file_extension": ".py",
   "mimetype": "text/x-python",
   "name": "python",
   "nbconvert_exporter": "python",
   "pygments_lexer": "ipython3",
   "version": "3.5.2"
  }
 },
 "nbformat": 4,
 "nbformat_minor": 2
}
