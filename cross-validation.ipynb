{
 "cells": [
  {
   "cell_type": "code",
   "execution_count": 1,
   "metadata": {},
   "outputs": [],
   "source": [
    "import pandas as pd\n",
    "import numpy as np\n",
    "from sklearn.model_selection import TimeSeriesSplit, ShuffleSplit\n",
    "import networkx as nx\n",
    "\n",
    "import itertools\n",
    "\n",
    "from pprint import pprint\n",
    "\n",
    "%matplotlib inline\n",
    "import matplotlib.pyplot as plt\n",
    "\n",
    "from tqdm import tqdm_notebook"
   ]
  },
  {
   "cell_type": "code",
   "execution_count": 2,
   "metadata": {},
   "outputs": [],
   "source": [
    "import tensorflow as tf"
   ]
  },
  {
   "cell_type": "code",
   "execution_count": 3,
   "metadata": {},
   "outputs": [],
   "source": [
    "from common.adjacency_list_to_graph import build_graph\n",
    "from common.calculate_spring_rank import calculate_spring_rank\n",
    "from common.graph_to_matrix import build_matrix"
   ]
  },
  {
   "cell_type": "code",
   "execution_count": 4,
   "metadata": {},
   "outputs": [],
   "source": [
    "transactions_df = pd.read_csv(\"./part_data\", sep=\" \", names=[\"from\", \"to\", \"value\", \"block\"])\n",
    "transactions_df[\"value\"] = 1\n",
    "transactions_df = transactions_df.sort_values(\"block\")"
   ]
  },
  {
   "cell_type": "markdown",
   "metadata": {},
   "source": [
    "Для теста используем граф с выраженной иерархией, например, граф цитат"
   ]
  },
  {
   "cell_type": "code",
   "execution_count": 22,
   "metadata": {},
   "outputs": [],
   "source": [
    "transactions_df = pd.read_csv(\"Cit-HepPh.txt\", sep=\"\\t\", names=[\"from\", \"to\"])\n",
    "transactions_df[\"value\"] = 1"
   ]
  },
  {
   "cell_type": "code",
   "execution_count": 5,
   "metadata": {},
   "outputs": [],
   "source": [
    "def create_dataset(dataset, addresses=None):\n",
    "    if addresses:\n",
    "        dataset = dataset[dataset[\"from\"].isin(addresses) & dataset[\"to\"].isin(addresses)]\n",
    "    return dataset.groupby([\"from\", \"to\"])[\"value\"].sum().to_frame()"
   ]
  },
  {
   "cell_type": "code",
   "execution_count": 6,
   "metadata": {},
   "outputs": [],
   "source": [
    "def find_ranks(dataset, alpha):\n",
    "    edges = dataset[\"value\"].to_dict()\n",
    "    graph = build_graph(edges)\n",
    "    nodes = list(graph)\n",
    "    A = build_matrix(graph, nodes)\n",
    "    iterations, raw_rank = calculate_spring_rank(A, alpha=alpha)\n",
    "    \n",
    "    rank = pd.DataFrame()\n",
    "    rank[\"address\"] = nodes\n",
    "    rank[\"rank\"] = raw_rank\n",
    "    \n",
    "    return rank.set_index(\"address\")"
   ]
  },
  {
   "cell_type": "markdown",
   "metadata": {},
   "source": [
    "Модель предсказания дуг:\n",
    "$$P_{ij} = \\frac{1}{1 + e^{-2\\beta(s_i - s_j)}}$$\n",
    "$$P_{ji} = \\frac{1}{1 + e^{2\\beta(s_i - s_j)}} $$\n",
    "$$P_{ij} = 1 - P_{ji}$$\n",
    "\n",
    "$$E_{ij} = c \\exp{-\\frac{\\beta}{2}(s_i - s_j - 1)^2}$$"
   ]
  },
  {
   "cell_type": "code",
   "execution_count": 7,
   "metadata": {},
   "outputs": [],
   "source": [
    "# def predict_edges(dataset, ranks, beta):\n",
    "#     dataset[\"from_rank\"] = ranks.loc[[a for a, _ in dataset.index]][\"rank\"].tolist()\n",
    "#     dataset[\"to_rank\"] = ranks.loc[[b for _, b in dataset.index]][\"rank\"].tolist()\n",
    "#     return (1 / (1 + np.exp(-2 * beta * (dataset[\"from_rank\"] - dataset[\"to_rank\"])))).tolist()"
   ]
  },
  {
   "cell_type": "code",
   "execution_count": 8,
   "metadata": {},
   "outputs": [],
   "source": [
    "s = tf.Session()"
   ]
  },
  {
   "cell_type": "code",
   "execution_count": 9,
   "metadata": {},
   "outputs": [],
   "source": [
    "def predict_edges_sum(dataset, ranks, beta, c):\n",
    "    addresses = set([a for a, _ in dataset.index] + [b for _, b in dataset.index])\n",
    "    ranks = ranks.loc[addresses][\"rank\"].tolist()\n",
    "    dataset_shape = len(ranks)\n",
    "    batch_shape = 10000\n",
    "    assert dataset_shape*batch_shape <= 10000000*1000\n",
    "    ranks_tensor = tf.placeholder(tf.float64, shape=[None, ])\n",
    "    dataset = tf.data.Dataset.from_tensor_slices(ranks_tensor)\n",
    "    dataset = dataset.batch(batch_shape)\n",
    "    dataset = dataset.map(lambda x: tf.reduce_sum(c*tf.exp(-beta / 2. * (tf.transpose([x]) - ranks_tensor - 1) ** 2)))\n",
    "\n",
    "    iterator = dataset.make_initializable_iterator()\n",
    "    next_element = iterator.get_next()\n",
    "\n",
    "    s.run(iterator.initializer, {ranks_tensor: ranks})\n",
    "    total_sum = 0\n",
    "    count = 0\n",
    "    \n",
    "    while True:\n",
    "        count += 1\n",
    "        print(\"{} of {}\".format(count, dataset_shape // batch_shape), end=\"\\r\")\n",
    "        try:\n",
    "            total_sum += s.run(next_element)\n",
    "        except tf.errors.OutOfRangeError:\n",
    "            break\n",
    "    return total_sum / 2"
   ]
  },
  {
   "cell_type": "code",
   "execution_count": 10,
   "metadata": {},
   "outputs": [],
   "source": [
    "def calculate_edges_sum_derivative(dataset, ranks, beta, c):\n",
    "    addresses = set([a for a, _ in dataset.index] + [b for _, b in dataset.index])\n",
    "    ranks = ranks.loc[addresses][\"rank\"].tolist()\n",
    "    dataset_shape = len(ranks)\n",
    "    batch_shape = 10000\n",
    "    assert dataset_shape*batch_shape <= 10000000*1000\n",
    "    ranks_tensor = tf.placeholder(tf.float64, shape=[None, ])\n",
    "    dataset = tf.data.Dataset.from_tensor_slices(ranks_tensor)\n",
    "    dataset = dataset.batch(batch_shape)\n",
    "    \n",
    "    def expression(x):\n",
    "        ranks_difference = (tf.transpose([x]) - ranks_tensor - 1) ** 2\n",
    "        return tf.reduce_sum(c * tf.exp(-beta / 2. * ranks_difference) * ranks_difference)\n",
    "        \n",
    "    dataset = dataset.map(expression)\n",
    "\n",
    "    iterator = dataset.make_initializable_iterator()\n",
    "    next_element = iterator.get_next()\n",
    "\n",
    "    s.run(iterator.initializer, {ranks_tensor: ranks})\n",
    "    total_sum = 0\n",
    "    count = 0\n",
    "    \n",
    "    while True:\n",
    "        count += 1\n",
    "        print(\"{} of {}\".format(count, dataset_shape // batch_shape), end=\"\\r\")\n",
    "        try:\n",
    "            total_sum += s.run(next_element)\n",
    "        except tf.errors.OutOfRangeError:\n",
    "            break\n",
    "    return total_sum / 2"
   ]
  },
  {
   "cell_type": "markdown",
   "metadata": {},
   "source": [
    "Находим $\\beta$, максимизируя выражение:\n",
    "$$L(A|s, \\beta) = -\\beta H(s) - M \\log\\sum_{i, j}\\exp -\\frac{\\beta}{2}(s_i - s_j - 1)^2$$\n",
    "\n",
    "Производные:\n",
    "$$L'_{\\beta}(A|s, \\beta) \n",
    "= - H(s) + \\frac{M}{2} \\frac{1}{\\sum_{i, j}e^{-\\frac{\\beta}{2}(s_i - s_j - 1)^2}}\\sum_{i, j}e^{-\\frac{\\beta}{2}(s_i - s_j - 1)^2} (s_i - s_j - 1)^2$$"
   ]
  },
  {
   "cell_type": "code",
   "execution_count": 11,
   "metadata": {},
   "outputs": [],
   "source": [
    "def calculate_energy(dataset, ranks):\n",
    "    dataset[\"from_rank\"] = ranks[\"rank\"].loc[[a for a, _ in dataset.index]].tolist()\n",
    "    dataset[\"to_rank\"] = ranks[\"rank\"].loc[[b for _, b in dataset.index]].tolist()\n",
    "    dataset[\"energy\"] = (dataset[\"from_rank\"] - dataset[\"to_rank\"] - 1) ** 2\n",
    "    return (dataset[\"value\"] * dataset[\"energy\"]).sum() / 2\n",
    "\n",
    "def infer_temperature(dataset, ranks):\n",
    "    H = calculate_energy(dataset, ranks)\n",
    "    M = float(dataset[\"value\"].sum())\n",
    "    beta_variable = tf.Variable(3.7268029290713383, name=\"beta\", dtype=tf.float64)\n",
    "    edges_sum_placeholder = tf.placeholder(tf.float64, shape=(None))\n",
    "    edges_sum_derivative_placeholder = tf.placeholder(tf.float64, shape=(None))\n",
    "    \n",
    "    derivative = - H + (M / 2) * (1 / edges_sum_placeholder) * edges_sum_derivative_placeholder\n",
    "    \n",
    "    @tf.custom_gradient\n",
    "    def loss_function(x):\n",
    "        loss = - H * x - M * edges_sum_placeholder\n",
    "        def grad(dy):\n",
    "            return dy * derivative\n",
    "        return loss, grad\n",
    "    \n",
    "    loss = loss_function(beta_variable)\n",
    "    optimizer = tf.train.GradientDescentOptimizer(0.1).minimize(loss)\n",
    "    \n",
    "    s.run(tf.global_variables_initializer())\n",
    "    for i in tqdm_notebook(range(0, 100)):\n",
    "        try:\n",
    "            beta = s.run(beta_variable)\n",
    "            edges_sum = predict_edges_sum(dataset, ranks, beta=beta, c=1)\n",
    "            edges_sum_derivative = calculate_edges_sum_derivative(dataset, ranks, beta=beta, c=1)\n",
    "            variables = {\n",
    "                edges_sum_placeholder: edges_sum, \n",
    "                edges_sum_derivative_placeholder: edges_sum_derivative\n",
    "            }\n",
    "            s.run(optimizer, variables)\n",
    "            print(\"Loss:\", s.run(loss, variables))\n",
    "            print(\"Derivative:\", s.run(derivative, variables))\n",
    "            print(\"Beta:\", s.run(beta_variable))\n",
    "        except tf.errors.OutOfRangeError:\n",
    "            break\n",
    "    return s.run(beta_variable)"
   ]
  },
  {
   "cell_type": "code",
   "execution_count": null,
   "metadata": {
    "scrolled": true
   },
   "outputs": [
    {
     "data": {
      "application/vnd.jupyter.widget-view+json": {
       "model_id": "f81c1da243bd4d47baf87dc9623b407b",
       "version_major": 2,
       "version_minor": 0
      },
      "text/plain": [
       "HBox(children=(IntProgress(value=0), HTML(value='')))"
      ]
     },
     "metadata": {},
     "output_type": "display_data"
    },
    {
     "name": "stdout",
     "output_type": "stream",
     "text": [
      "Loss: -70731315738849.66\n",
      "Derivative: -1078.14000691189\n",
      "Beta: 111.54080522681414\n",
      "Loss: -13000444103182.412\n",
      "Derivative: -48423.36980997924\n",
      "Beta: 4953.877858381182\n",
      "Loss: -1950121905416.2412\n",
      "Derivative: -50087.110645871755\n",
      "Beta: 9962.588997603969\n",
      "Loss: -1375405751908.768\n",
      "Derivative: -50106.37025498278\n",
      "Beta: 14973.226097766557\n",
      "Loss: -1122247662290.8293\n",
      "Derivative: -50112.7450050751\n",
      "Beta: 19984.500672947877\n",
      "Loss: -971768504484.4802\n",
      "Derivative: -50115.92391616119\n",
      "Beta: 24996.09313924254\n",
      "Loss: -869291060218.2705\n",
      "Derivative: -50117.82865673278\n",
      "Beta: 30007.876079597205\n",
      "Loss: -793780565567.094\n",
      "Derivative: -50119.097368442686\n",
      "Beta: 35019.785891124746\n",
      "Loss: -735190527242.3546\n",
      "Derivative: -50120.00297606016\n",
      "Beta: 40031.786263415386\n",
      "Loss: -688036875659.7687\n",
      "Derivative: -50120.68178145469\n",
      "Beta: 45043.85451624649\n",
      "Loss: -649038910730.1238\n",
      "Derivative: -50121.20945551028\n",
      "Beta: 50055.97553648394\n",
      "Loss: -616098006893.3491\n",
      "Derivative: -50121.63138097233\n",
      "Beta: 55068.13874926822\n",
      "Loss: -587801037721.8431\n",
      "Derivative: -50121.976428848364\n",
      "Beta: 60080.33646684062\n",
      "Loss: -563157045510.5579\n",
      "Derivative: -50122.26384157779\n",
      "Beta: 65092.56292568639\n",
      "Loss: -541447838530.1029\n",
      "Derivative: -50122.5069376378\n",
      "Beta: 70104.81369413853\n",
      "Loss: -522138502680.5009\n",
      "Derivative: -50122.715227844696\n",
      "Beta: 75117.08529161167\n",
      "Loss: -504821358195.33234\n",
      "Derivative: -50122.895684906645\n",
      "Beta: 80129.37493479127\n",
      "Loss: -489179528057.0273\n",
      "Derivative: -50123.05353680793\n",
      "Beta: 85141.68036316123\n",
      "Loss: -474962492432.9116\n",
      "Derivative: -50123.19278014032\n",
      "Beta: 90153.99971586464\n",
      "Loss: -461969231872.3173\n",
      "Derivative: -50123.31652230675\n",
      "Beta: 95166.33144278488\n",
      "Loss: -450036324018.27606\n",
      "Derivative: -50123.42721564859\n",
      "Beta: 100178.67423903946\n",
      "Loss: -439029360934.2748\n",
      "Derivative: -50123.526821323874\n",
      "Beta: 105191.02699586173\n",
      "Loss: -428836645239.86816\n",
      "Derivative: -50123.61692635253\n",
      "Beta: 110203.38876318699\n",
      "Loss: -419364483003.1669\n",
      "Derivative: -50123.698828729954\n",
      "Beta: 115215.75872075012\n",
      "Loss: -410533616496.66754\n",
      "Derivative: -50123.77360032736\n",
      "Beta: 120228.1361554731\n",
      "Loss: -402276484395.8206\n",
      "Derivative: -50123.84213405835\n",
      "Beta: 125240.52044356927\n",
      "Loss: -394535091795.46735\n",
      "Derivative: -50123.90517971779\n",
      "Beta: 130252.9110362315\n",
      "Loss: -387259335886.5538\n",
      "Derivative: -50123.963371543505\n",
      "Beta: 135265.30744807638\n",
      "Loss: -380405676412.5283\n",
      "Derivative: -50124.01724964749\n",
      "Beta: 140277.70924773172\n",
      "Loss: -373936070030.8743\n",
      "Derivative: -50124.06727685\n",
      "Beta: 145290.1160501074\n",
      "Loss: -367817108829.87854\n",
      "Derivative: -50124.11385202674\n",
      "Beta: 150302.52751000083\n",
      "Loss: -362019318333.0249\n",
      "Derivative: -50124.15732078341\n",
      "Beta: 155314.94331677\n",
      "Loss: -356516581231.8686\n",
      "Derivative: -50124.19798406148\n",
      "Beta: 160327.363189867\n",
      "Loss: -351285661073.0036\n",
      "Derivative: -50124.23610512828\n",
      "Beta: 165339.78687507077\n",
      "Loss: -346305806034.80145\n",
      "Derivative: -50124.27191529429\n",
      "Beta: 170352.2141412912\n",
      "Loss: -341558417349.3903\n",
      "Derivative: -50124.30561862012\n",
      "Beta: 175364.64477784422\n",
      "Loss: -337026770262.90063\n",
      "Derivative: -50124.33739581538\n",
      "Beta: 180377.07859211686\n",
      "Loss: -332695777970.0356\n",
      "Derivative: -50124.36740748676\n",
      "Beta: 185389.51540755667\n",
      "Loss: -328551790913.1808\n",
      "Derivative: -50124.39579685865\n",
      "Beta: 190401.9550619337\n",
      "Loss: -324582425349.9769\n",
      "Derivative: -50124.422692063505\n",
      "Beta: 195414.39740583126\n",
      "Loss: -320776416274.5016\n",
      "Derivative: -50124.448208079375\n",
      "Beta: 200426.84230133044\n",
      "Loss: -317123490705.5888\n",
      "Derivative: -50124.47244837638\n",
      "Beta: 205439.28962085937\n",
      "Loss: -313614258090.3553\n",
      "Derivative: -50124.495506321844\n",
      "Beta: 210451.73924618287\n",
      "Loss: -310240115155.7613\n",
      "Derivative: -50124.51746638447\n",
      "Beta: 215464.19106751267\n",
      "Loss: -306993163009.468\n",
      "Derivative: -50124.53840517023\n",
      "Beta: 220476.64498272107\n",
      "Loss: -303866134668.5641\n",
      "Derivative: -50124.55839231683\n",
      "Beta: 225489.10089664417\n",
      "Loss: -300852331500.2715\n",
      "Derivative: -50124.577491268734\n",
      "Beta: 230501.5587204625\n",
      "Loss: -297945567307.47705\n",
      "Derivative: -50124.59575995097\n",
      "Beta: 235514.01837114905\n",
      "Loss: -295140118995.45264\n",
      "Derivative: -50124.613251356845\n",
      "Beta: 240526.47977097624\n",
      "Loss: -292430682923.24713\n",
      "Derivative: -50124.63001406207\n",
      "Beta: 245538.94284707395\n",
      "Loss: -289812336181.36163\n",
      "Derivative: -50124.64609267592\n",
      "Beta: 250551.4075310331\n",
      "Loss: -287280502151.6613\n",
      "Derivative: -50124.66152823807\n",
      "Beta: 255563.87375854846\n",
      "Loss: -284830919800.79956\n",
      "Derivative: -50124.6763585689\n",
      "Beta: 260576.34146909695\n",
      "Loss: -282459616237.9318\n",
      "Derivative: -50124.690618579094\n",
      "Beta: 265588.81060564646\n",
      "Loss: -280162882134.34204\n",
      "Derivative: -50124.70434054439\n",
      "Beta: 270601.2811143925\n",
      "Loss: -277937249658.7042\n",
      "Derivative: -50124.71755434962\n",
      "Beta: 275613.7529445191\n",
      "Loss: -275779472629.2284\n",
      "Derivative: -50124.73028770616\n",
      "Beta: 280626.2260479814\n",
      "2 of 3\r"
     ]
    }
   ],
   "source": [
    "infer_temperature(train, ranks)"
   ]
  },
  {
   "cell_type": "markdown",
   "metadata": {},
   "source": [
    "Находим $c$, получая общее количество дуг (исходя из известного $\\beta$)"
   ]
  },
  {
   "cell_type": "code",
   "execution_count": 29,
   "metadata": {},
   "outputs": [],
   "source": [
    "def infer_density(dataset, ranks, beta):\n",
    "    edges_sum = predict_edges_sum(dataset, ranks, beta, 1)\n",
    "    return dataset[\"value\"].sum() / edges_sum"
   ]
  },
  {
   "cell_type": "code",
   "execution_count": 30,
   "metadata": {},
   "outputs": [],
   "source": [
    "def predict_edges(dataset, ranks, beta, c):\n",
    "    dataset[\"from_rank\"] = ranks.loc[[a for a, _ in dataset.index]][\"rank\"].tolist()\n",
    "    dataset[\"to_rank\"] = ranks.loc[[b for _, b in dataset.index]][\"rank\"].tolist()\n",
    "    dataset[\"direction_probability\"] = (1 / (1 + np.exp(-2 * beta * (dataset[\"from_rank\"] - dataset[\"to_rank\"]))))\n",
    "    dataset[\"number_of_edges\"] = c * np.exp(- beta / 2 * (dataset[\"from_rank\"] - dataset[\"to_rank\"] - 1) ** 2)\n",
    "    return dataset[\"direction_probability\"].tolist(), dataset[\"number_of_edges\"].tolist(), predict_edges_sum(dataset, ranks, beta, c)"
   ]
  },
  {
   "cell_type": "markdown",
   "metadata": {},
   "source": [
    "Multigraph accuracy:\n",
    "$$\\sigma_a = 1 - \\frac{1}{2M}\\sum_{i,j}|{A_{ij} - (A_{ij} + A_{ji})P_{ij}}|$$\n",
    "\n",
    "M - сумма всех весов"
   ]
  },
  {
   "cell_type": "markdown",
   "metadata": {},
   "source": [
    "Как пропустить ошибку для отсутствующих дуг?\n",
    "- Если Aij = 0 и Aji = 0 - ошибку можно пропустить?\n",
    "- Если Aij = 0 и Aji != 0\n",
    "$$A^*_{ij} = A_{ij}$$\n",
    "$$e_{ij} = |0 - A_{ji}(1 - P_{ji})| = A_{ji}(1 - P_{ij})$$\n",
    "$$e_{ij} + e_{ji} = |A_{ji} - A_{ji}P_{ji}| + A_{ji} - A_{ji}P_{ij} = 2(A_{ji} - A_{ji}P_{ij}) $$\n",
    "Т.е. для непарных дуг удваиваем ошибку\n",
    "\n",
    "Предполагается, что:\n",
    "$$A_{ij} = 0, A_{ji} = 0 \\rightarrow P_{ij} = 0, P_{ji} = 0$$"
   ]
  },
  {
   "cell_type": "markdown",
   "metadata": {},
   "source": [
    "Есть ли возможность проверять предсказанное количество дуг?\n",
    "\n",
    "Есть, если вместо Aij + Aji использовать\n",
    "$$E_{ij} = c \\exp{-\\frac{\\beta}{2}(s_i - s_j - 1)^2}$$\n",
    "\n",
    "А вместо 2M?\n",
    "$$ M + \\sum_{ij}E_{ij} $$"
   ]
  },
  {
   "cell_type": "markdown",
   "metadata": {},
   "source": [
    "Для случая $A_{ji} = 0, A_{ij} \\neq 0$:\n",
    "\n",
    "$$E_{ji}(1 - P_{ji}) + |A_{ji} - E_{ji}P_{ji}|$$\n",
    "\n",
    "Для случая $A_{ij} = A_{ji} = 0$\n",
    "\n",
    "$$E_{ij}$$\n",
    "\n",
    "Т.е. сумма таких ошибок:\n",
    "\n",
    "$$\\sum E_{ij} - \\frac{\\sum_{(i,j), (j,i) \\in G} E_{ij}}{2} - \\sum_{(i,j) \\in G, (j, i) \\in G} E_{ij}$$"
   ]
  },
  {
   "cell_type": "code",
   "execution_count": 31,
   "metadata": {},
   "outputs": [],
   "source": [
    "# def accuracy(dataset, predictions):\n",
    "#     accuracy_dataset = dataset.copy()\n",
    "#     accuracy_dataset = accuracy_dataset.merge(accuracy_dataset.reset_index(), left_index=True, right_on=[\"to\", \"from\"], how=\"left\", suffixes=('', '_reversed'))\n",
    "#     accuracy_dataset[\"prediction\"] = predictions\n",
    "#     accuracy_dataset[\"total_value\"] = accuracy_dataset[\"value\"] + accuracy_dataset[\"value_reversed\"].fillna(0)\n",
    "#     accuracy_dataset[\"paired\"] = accuracy_dataset[\"value\"] < accuracy_dataset[\"total_value\"]\n",
    "#     accuracy_dataset[\"error\"] = accuracy_dataset[\"value\"] - accuracy_dataset[\"total_value\"] * accuracy_dataset[\"prediction\"]\n",
    "#     accuracy_dataset.loc[~accuracy_dataset[\"paired\"], \"error\"] *= 2\n",
    "#     return 1 - np.abs(accuracy_dataset[\"error\"]).sum() / 2 / accuracy_dataset[\"value\"].sum()"
   ]
  },
  {
   "cell_type": "code",
   "execution_count": 32,
   "metadata": {},
   "outputs": [],
   "source": [
    "def accuracy(dataset, direction, edges, edges_sum):\n",
    "    accuracy_dataset = dataset.copy()\n",
    "    accuracy_dataset = accuracy_dataset.merge(accuracy_dataset.reset_index(), left_index=True, right_on=[\"to\", \"from\"], how=\"left\", suffixes=('', '_reversed'))\n",
    "    accuracy_dataset[\"not_paired\"] = 0\n",
    "    accuracy_dataset.loc[np.isnan(accuracy_dataset[\"value_reversed\"]), \"not_paired\"] = 1\n",
    "    accuracy_dataset[\"direction\"] = direction\n",
    "    accuracy_dataset[\"edges\"] = edges\n",
    "    accuracy_dataset[\"prediction\"] = accuracy_dataset[\"direction\"] * accuracy_dataset[\"edges\"]\n",
    "    accuracy_dataset[\"error\"] = np.abs(accuracy_dataset[\"value\"] - accuracy_dataset[\"prediction\"])\n",
    "    accuracy_dataset[\"non_paired_error\"] = accuracy_dataset[\"not_paired\"] * accuracy_dataset[\"edges\"] * (1 - accuracy_dataset[\"direction\"])\n",
    "    non_active_edges_sum = edges_sum - (accuracy_dataset[\"not_paired\"] * accuracy_dataset[\"edges\"]).sum() - ((1 - accuracy_dataset[\"not_paired\"]) * accuracy_dataset[\"edges\"]).sum() / 2\n",
    "    return 1 - \\\n",
    "        (accuracy_dataset[\"error\"].sum() + accuracy_dataset[\"non_paired_error\"].sum() + non_active_edges_sum) / \\\n",
    "        (accuracy_dataset[\"value\"].sum() + edges_sum) "
   ]
  },
  {
   "cell_type": "code",
   "execution_count": 33,
   "metadata": {},
   "outputs": [],
   "source": [
    "test_df = pd.DataFrame()\n",
    "test_df[\"from\"] = [\"0x1\", \"0x2\", \"0x3\"]\n",
    "test_df[\"to\"] = [\"0x2\", \"0x1\", \"0x4\"]\n",
    "test_df[\"value\"] = [1, 2, 1]\n",
    "test_df = test_df.set_index([\"from\", \"to\"])"
   ]
  },
  {
   "cell_type": "code",
   "execution_count": 58,
   "metadata": {
    "scrolled": false
   },
   "outputs": [
    {
     "name": "stdout",
     "output_type": "stream",
     "text": [
      "Train size: 379420 samples\n",
      "Test size: 41996 samples\n",
      "Graph contains 379420 edges for 34394 nodes\n",
      "Estimated size of A is 4.7 MB RAM\n",
      "Matrix A takes 4.7 MB RAM\n",
      "Matrix has 3.21e-04 density\n",
      "03:06:32.886790 Calculating Anj ....\n",
      "03:06:33.271944 Calculating Ajn ....\n",
      "03:06:33.639343 Calculating A_o ....\n",
      "03:06:33.695075 Calculating B ....\n",
      "03:06:33.717737 Matrix B takes 19.1 MB RAM\n",
      "03:06:33.717828 Calculating b ....\n",
      "03:06:33.721348 Solving Bx=b equation using 'bicgstab' iterative method\n",
      "5 of 3\r"
     ]
    },
    {
     "name": "stderr",
     "output_type": "stream",
     "text": [
      "/usr/local/lib/python3.5/dist-packages/ipykernel_launcher.py:4: RuntimeWarning: overflow encountered in exp\n",
      "  after removing the cwd from sys.path.\n"
     ]
    },
    {
     "name": "stdout",
     "output_type": "stream",
     "text": [
      "362.3123372090965 379420.00000000244\n",
      "379420.00000000244 194921.88260753328\n",
      "Train accuracy:  0.0021349872317214524\n",
      "Test accuracy:  0.0006300630580420297\n",
      "{(0, 4922.40704411323, 0.07360470882683107): [0.0021349872317214524]}\n",
      "{(0, 4922.40704411323, 0.07360470882683107): [0.0006300630580420297]}\n"
     ]
    }
   ],
   "source": [
    "alphas = [0]\n",
    "# alphas = np.logspace(-2, 2, 5)\n",
    "betas = [4922.40704411323]\n",
    "# betas = [288808]\n",
    "split = ShuffleSplit(n_splits=5)\n",
    "# split = TimeSeriesSplit(n_splits=5)\n",
    "\n",
    "train_metrics = {}\n",
    "test_metrics = {}\n",
    "\n",
    "train_index, test_index = next(split.split(transactions_df))\n",
    "# for train_index, test_index in :\n",
    "train = create_dataset(transactions_df.loc[train_index])\n",
    "print(\"Train size: {} samples\".format(train.shape[0]))\n",
    "train_addresses = list([a for a, _ in train.index] + [b for _, b in train.index])\n",
    "test = create_dataset(transactions_df.loc[test_index], addresses=train_addresses)\n",
    "print(\"Test size: {} samples\".format(test.shape[0]))\n",
    "for alpha in alphas:\n",
    "    ranks = find_ranks(train, alpha=alpha)\n",
    "    for beta in betas:\n",
    "        c = infer_density(train, ranks, beta=beta)\n",
    "        train_directions, train_edges, train_sum = predict_edges(train, ranks, beta=beta, c=c)\n",
    "        print(beta * c, train_sum)\n",
    "        test_directions, test_edges, test_sum = predict_edges(test, ranks, beta=beta, c=c)\n",
    "        print(train_sum, test_sum)\n",
    "        train_metrics[(alpha, beta, c)] = train_metrics.get((alpha, beta, c), []) + [accuracy(train, train_directions, train_edges, train_sum)]\n",
    "        test_metrics[(alpha, beta, c)] = test_metrics.get((alpha, beta, c), []) + [accuracy(test, test_directions, test_edges, test_sum)]\n",
    "        print(\"Train accuracy: \", train_metrics[(alpha, beta, c)][-1])\n",
    "        print(\"Test accuracy: \", test_metrics[(alpha, beta, c)][-1])\n",
    "pprint(train_metrics)\n",
    "pprint(test_metrics)"
   ]
  },
  {
   "cell_type": "code",
   "execution_count": 155,
   "metadata": {},
   "outputs": [],
   "source": [
    "train_metrics_df = pd.DataFrame().from_dict(train_metrics).mean().to_frame().reset_index().rename(columns={\"level_0\": \"alpha\", \"level_1\": \"beta\", 0: \"accuracy\", \"level_2\": \"c\"})\n",
    "test_metrics_df = pd.DataFrame().from_dict(test_metrics).mean().to_frame().reset_index().rename(columns={\"level_0\": \"alpha\", \"level_1\": \"beta\", 0: \"accuracy\", \"level_2\": \"c\"})"
   ]
  },
  {
   "cell_type": "code",
   "execution_count": 156,
   "metadata": {},
   "outputs": [
    {
     "name": "stderr",
     "output_type": "stream",
     "text": [
      "/usr/local/lib/python3.5/dist-packages/ipykernel_launcher.py:1: RuntimeWarning: divide by zero encountered in log\n",
      "  \"\"\"Entry point for launching an IPython kernel.\n",
      "/usr/local/lib/python3.5/dist-packages/ipykernel_launcher.py:2: RuntimeWarning: divide by zero encountered in log\n",
      "  \n"
     ]
    }
   ],
   "source": [
    "test_metrics_df[\"alpha_log\"] = np.log(test_metrics_df[\"alpha\"])\n",
    "train_metrics_df[\"alpha_log\"] = np.log(train_metrics_df[\"alpha\"])"
   ]
  },
  {
   "cell_type": "code",
   "execution_count": 157,
   "metadata": {},
   "outputs": [
    {
     "data": {
      "text/plain": [
       "<matplotlib.legend.Legend at 0x7f1e356744e0>"
      ]
     },
     "execution_count": 157,
     "metadata": {},
     "output_type": "execute_result"
    },
    {
     "data": {
      "image/png": "[encoded data removed]",
      "text/plain": [
       "<matplotlib.figure.Figure at 0x7f1e35674a90>"
      ]
     },
     "metadata": {},
     "output_type": "display_data"
    }
   ],
   "source": [
    "plt.plot(train_metrics_df.groupby(\"alpha_log\")[\"accuracy\"].mean(), label=\"train\")\n",
    "plt.plot(test_metrics_df.groupby(\"alpha_log\")[\"accuracy\"].mean(), label=\"test\")\n",
    "plt.legend()"
   ]
  },
  {
   "cell_type": "code",
   "execution_count": 158,
   "metadata": {},
   "outputs": [
    {
     "data": {
      "text/html": [
       "<div>\n",
       "<style scoped>\n",
       "    .dataframe tbody tr th:only-of-type {\n",
       "        vertical-align: middle;\n",
       "    }\n",
       "\n",
       "    .dataframe tbody tr th {\n",
       "        vertical-align: top;\n",
       "    }\n",
       "\n",
       "    .dataframe thead th {\n",
       "        text-align: right;\n",
       "    }\n",
       "</style>\n",
       "<table border=\"1\" class=\"dataframe\">\n",
       "  <thead>\n",
       "    <tr style=\"text-align: right;\">\n",
       "      <th></th>\n",
       "      <th>alpha</th>\n",
       "      <th>beta</th>\n",
       "      <th>c</th>\n",
       "      <th>accuracy</th>\n",
       "      <th>alpha_log</th>\n",
       "    </tr>\n",
       "  </thead>\n",
       "  <tbody>\n",
       "    <tr>\n",
       "      <th>0</th>\n",
       "      <td>0</td>\n",
       "      <td>100.0</td>\n",
       "      <td>0.012454</td>\n",
       "      <td>0.000755</td>\n",
       "      <td>-inf</td>\n",
       "    </tr>\n",
       "    <tr>\n",
       "      <th>1</th>\n",
       "      <td>0</td>\n",
       "      <td>200.0</td>\n",
       "      <td>0.017683</td>\n",
       "      <td>0.000762</td>\n",
       "      <td>-inf</td>\n",
       "    </tr>\n",
       "    <tr>\n",
       "      <th>2</th>\n",
       "      <td>0</td>\n",
       "      <td>300.0</td>\n",
       "      <td>0.021688</td>\n",
       "      <td>0.000764</td>\n",
       "      <td>-inf</td>\n",
       "    </tr>\n",
       "    <tr>\n",
       "      <th>3</th>\n",
       "      <td>0</td>\n",
       "      <td>400.0</td>\n",
       "      <td>0.025061</td>\n",
       "      <td>0.000766</td>\n",
       "      <td>-inf</td>\n",
       "    </tr>\n",
       "    <tr>\n",
       "      <th>4</th>\n",
       "      <td>0</td>\n",
       "      <td>500.0</td>\n",
       "      <td>0.028031</td>\n",
       "      <td>0.000766</td>\n",
       "      <td>-inf</td>\n",
       "    </tr>\n",
       "    <tr>\n",
       "      <th>5</th>\n",
       "      <td>0</td>\n",
       "      <td>600.0</td>\n",
       "      <td>0.030715</td>\n",
       "      <td>0.000767</td>\n",
       "      <td>-inf</td>\n",
       "    </tr>\n",
       "    <tr>\n",
       "      <th>6</th>\n",
       "      <td>0</td>\n",
       "      <td>700.0</td>\n",
       "      <td>0.033184</td>\n",
       "      <td>0.000767</td>\n",
       "      <td>-inf</td>\n",
       "    </tr>\n",
       "    <tr>\n",
       "      <th>7</th>\n",
       "      <td>0</td>\n",
       "      <td>800.0</td>\n",
       "      <td>0.035480</td>\n",
       "      <td>0.000767</td>\n",
       "      <td>-inf</td>\n",
       "    </tr>\n",
       "    <tr>\n",
       "      <th>8</th>\n",
       "      <td>0</td>\n",
       "      <td>900.0</td>\n",
       "      <td>0.037637</td>\n",
       "      <td>0.000767</td>\n",
       "      <td>-inf</td>\n",
       "    </tr>\n",
       "    <tr>\n",
       "      <th>9</th>\n",
       "      <td>0</td>\n",
       "      <td>1000.0</td>\n",
       "      <td>0.039677</td>\n",
       "      <td>0.000767</td>\n",
       "      <td>-inf</td>\n",
       "    </tr>\n",
       "  </tbody>\n",
       "</table>\n",
       "</div>"
      ],
      "text/plain": [
       "   alpha    beta         c  accuracy  alpha_log\n",
       "0      0   100.0  0.012454  0.000755       -inf\n",
       "1      0   200.0  0.017683  0.000762       -inf\n",
       "2      0   300.0  0.021688  0.000764       -inf\n",
       "3      0   400.0  0.025061  0.000766       -inf\n",
       "4      0   500.0  0.028031  0.000766       -inf\n",
       "5      0   600.0  0.030715  0.000767       -inf\n",
       "6      0   700.0  0.033184  0.000767       -inf\n",
       "7      0   800.0  0.035480  0.000767       -inf\n",
       "8      0   900.0  0.037637  0.000767       -inf\n",
       "9      0  1000.0  0.039677  0.000767       -inf"
      ]
     },
     "execution_count": 158,
     "metadata": {},
     "output_type": "execute_result"
    }
   ],
   "source": [
    "train_metrics_df.sort_values(\"c\")"
   ]
  },
  {
   "cell_type": "code",
   "execution_count": 159,
   "metadata": {},
   "outputs": [
    {
     "data": {
      "text/plain": [
       "<matplotlib.legend.Legend at 0x7f1db71d2630>"
      ]
     },
     "execution_count": 159,
     "metadata": {},
     "output_type": "execute_result"
    },
    {
     "data": {
      "image/png": "[encoded data removed]",
      "text/plain": [
       "<matplotlib.figure.Figure at 0x7f1e1af0f668>"
      ]
     },
     "metadata": {},
     "output_type": "display_data"
    }
   ],
   "source": [
    "plt.plot(train_metrics_df.groupby(\"beta\")[\"accuracy\"].max(), label=\"train\")\n",
    "plt.plot(test_metrics_df.groupby(\"beta\")[\"accuracy\"].max(), label=\"test\")\n",
    "plt.legend()"
   ]
  },
  {
   "cell_type": "code",
   "execution_count": 160,
   "metadata": {
    "scrolled": true
   },
   "outputs": [
    {
     "data": {
      "text/plain": [
       "<matplotlib.legend.Legend at 0x7f1e26678be0>"
      ]
     },
     "execution_count": 160,
     "metadata": {},
     "output_type": "execute_result"
    },
    {
     "data": {
      "image/png": "[encoded data removed]",
      "text/plain": [
       "<matplotlib.figure.Figure at 0x7f1e3567eeb8>"
      ]
     },
     "metadata": {},
     "output_type": "display_data"
    }
   ],
   "source": [
    "plt.plot(train_metrics_df.groupby(\"c\")[\"accuracy\"].max(), label=\"train\")\n",
    "plt.plot(test_metrics_df.groupby(\"c\")[\"accuracy\"].max(), label=\"test\")\n",
    "plt.legend()"
   ]
  },
  {
   "cell_type": "markdown",
   "metadata": {},
   "source": [
    "# Airdrops search"
   ]
  },
  {
   "cell_type": "markdown",
   "metadata": {},
   "source": [
    "- Считаем спрингранк для графа токенов"
   ]
  }
 ],
 "metadata": {
  "kernelspec": {
   "display_name": "Python 3",
   "language": "python",
   "name": "python3"
  },
  "language_info": {
   "codemirror_mode": {
    "name": "ipython",
    "version": 3
   },
   "file_extension": ".py",
   "mimetype": "text/x-python",
   "name": "python",
   "nbconvert_exporter": "python",
   "pygments_lexer": "ipython3",
   "version": "3.5.2"
  }
 },
 "nbformat": 4,
 "nbformat_minor": 2
}
