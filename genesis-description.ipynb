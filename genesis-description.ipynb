{
 "cells": [
  {
   "cell_type": "code",
   "execution_count": 31,
   "metadata": {},
   "outputs": [],
   "source": [
    "import pandas as pd\n",
    "from clickhouse_driver import Client\n",
    "import numpy as np"
   ]
  },
  {
   "cell_type": "code",
   "execution_count": 28,
   "metadata": {},
   "outputs": [],
   "source": [
    "%matplotlib inline\n",
    "import matplotlib.pyplot as plt\n",
    "import seaborn as sns"
   ]
  },
  {
   "cell_type": "code",
   "execution_count": 115,
   "metadata": {},
   "outputs": [],
   "source": [
    "from pyquery import PyQuery as pq\n",
    "from time import sleep\n",
    "import time\n",
    "import re\n",
    "import requests\n",
    "from tqdm import tqdm_notebook"
   ]
  },
  {
   "cell_type": "code",
   "execution_count": 22,
   "metadata": {},
   "outputs": [],
   "source": [
    "client = Client(\"localhost\")"
   ]
  },
  {
   "cell_type": "code",
   "execution_count": 23,
   "metadata": {},
   "outputs": [
    {
     "data": {
      "text/plain": [
       "[]"
      ]
     },
     "execution_count": 23,
     "metadata": {},
     "output_type": "execute_result"
    }
   ],
   "source": [
    "client.execute(\"SET max_memory_usage = 100000000000\")"
   ]
  },
  {
   "cell_type": "code",
   "execution_count": 12,
   "metadata": {},
   "outputs": [],
   "source": [
    "ranks_df = pd.read_csv(\"clusterized_ranks\", names=[\"address\", \"percentage\"], sep=\" \").set_index(\"address\")"
   ]
  },
  {
   "cell_type": "markdown",
   "metadata": {},
   "source": [
    "Количество адресов"
   ]
  },
  {
   "cell_type": "code",
   "execution_count": 24,
   "metadata": {},
   "outputs": [
    {
     "data": {
      "text/plain": [
       "(999792, 1)"
      ]
     },
     "execution_count": 24,
     "metadata": {},
     "output_type": "execute_result"
    }
   ],
   "source": [
    "ranks_df.shape"
   ]
  },
  {
   "cell_type": "markdown",
   "metadata": {},
   "source": [
    "Равномерность распределения"
   ]
  },
  {
   "cell_type": "code",
   "execution_count": 33,
   "metadata": {},
   "outputs": [
    {
     "data": {
      "text/plain": [
       "(array([6.66224e+05, 1.42656e+05, 7.02870e+04, 5.79190e+04, 3.21930e+04,\n",
       "        1.37110e+04, 7.96800e+03, 4.85400e+03, 3.70100e+03, 2.79000e+02]),\n",
       " array([-18.04742586, -16.99037401, -15.93332217, -14.87627033,\n",
       "        -13.81921849, -12.76216665, -11.70511481, -10.64806297,\n",
       "         -9.59101113,  -8.53395929,  -7.47690744]),\n",
       " <a list of 10 Patch objects>)"
      ]
     },
     "execution_count": 33,
     "metadata": {},
     "output_type": "execute_result"
    },
    {
     "data": {
      "image/png": "[encoded data removed]",
      "text/plain": [
       "<Figure size 432x288 with 1 Axes>"
      ]
     },
     "metadata": {
      "needs_background": "light"
     },
     "output_type": "display_data"
    }
   ],
   "source": [
    "plt.hist(np.log(ranks_df[\"percentage\"]))"
   ]
  },
  {
   "cell_type": "code",
   "execution_count": 213,
   "metadata": {},
   "outputs": [
    {
     "data": {
      "text/plain": [
       "0.8284326904442152"
      ]
     },
     "execution_count": 213,
     "metadata": {},
     "output_type": "execute_result"
    }
   ],
   "source": [
    "ranks_df[\"percentage\"].sort_values(ascending=False).iloc[:20000].sum()"
   ]
  },
  {
   "cell_type": "code",
   "execution_count": 211,
   "metadata": {},
   "outputs": [
    {
     "data": {
      "text/plain": [
       "(-150, 20000)"
      ]
     },
     "execution_count": 211,
     "metadata": {},
     "output_type": "execute_result"
    },
    {
     "data": {
      "image/png": "[encoded data removed]",
      "text/plain": [
       "<Figure size 1440x360 with 1 Axes>"
      ]
     },
     "metadata": {
      "needs_background": "light"
     },
     "output_type": "display_data"
    }
   ],
   "source": [
    "plt.figure(figsize=(20, 5))\n",
    "plt.plot(ranks_df[\"percentage\"].sort_values(ascending=False).iloc[:20000], label=\"Distribution\")\n",
    "plt.xticks([])\n",
    "plt.axvline(1000, label=\"TOP-1k: {0:.1%}\".format(ranks_df[\"percentage\"].sort_values(ascending=False).iloc[:1000].sum()), color=\"red\")\n",
    "plt.axvline(5000, label=\"TOP-5k: {0:.1%}\".format(ranks_df[\"percentage\"].sort_values(ascending=False).iloc[:5000].sum()), color=\"blue\")\n",
    "plt.axvline(10000, label=\"TOP-10k: {0:.1%}\".format(ranks_df[\"percentage\"].sort_values(ascending=False).iloc[:10000].sum()), color=\"green\")\n",
    "# plt.axvline(, label=\"Test\")\n",
    "# plt.yticks([])\n",
    "plt.legend()\n",
    "plt.xlim(-150, 20000)"
   ]
  },
  {
   "cell_type": "markdown",
   "metadata": {},
   "source": [
    "Наиболее активные адреса (убрать контракты и именованные адреса)"
   ]
  },
  {
   "cell_type": "code",
   "execution_count": 74,
   "metadata": {},
   "outputs": [],
   "source": [
    "activity = client.execute(\"\"\"\n",
    "    SELECT from, count(*)\n",
    "    FROM ethereum_internal_transaction\n",
    "    WHERE \n",
    "        blockNumber > 5000000\n",
    "    AND\n",
    "        from not in(SELECT address FROM ethereum_contract)\n",
    "    AND \n",
    "        value > 0\n",
    "    GROUP BY from\n",
    "\"\"\")"
   ]
  },
  {
   "cell_type": "code",
   "execution_count": 75,
   "metadata": {},
   "outputs": [],
   "source": [
    "activity_df = pd.DataFrame(activity, columns=[\"address\", \"transactions\"]).set_index(\"address\")"
   ]
  },
  {
   "cell_type": "code",
   "execution_count": 76,
   "metadata": {},
   "outputs": [],
   "source": [
    "ranks_with_activity_df = ranks_df.merge(activity_df, how=\"inner\", left_index=True, right_index=True)"
   ]
  },
  {
   "cell_type": "code",
   "execution_count": 77,
   "metadata": {
    "scrolled": true
   },
   "outputs": [
    {
     "data": {
      "text/html": [
       "<div>\n",
       "<style scoped>\n",
       "    .dataframe tbody tr th:only-of-type {\n",
       "        vertical-align: middle;\n",
       "    }\n",
       "\n",
       "    .dataframe tbody tr th {\n",
       "        vertical-align: top;\n",
       "    }\n",
       "\n",
       "    .dataframe thead th {\n",
       "        text-align: right;\n",
       "    }\n",
       "</style>\n",
       "<table border=\"1\" class=\"dataframe\">\n",
       "  <thead>\n",
       "    <tr style=\"text-align: right;\">\n",
       "      <th></th>\n",
       "      <th>percentage</th>\n",
       "      <th>transactions</th>\n",
       "    </tr>\n",
       "    <tr>\n",
       "      <th>address</th>\n",
       "      <th></th>\n",
       "      <th></th>\n",
       "    </tr>\n",
       "  </thead>\n",
       "  <tbody>\n",
       "    <tr>\n",
       "      <th>0xfbb1b73c4f0bda4f67dca266ce6ef42f520fbb98</th>\n",
       "      <td>0.000027</td>\n",
       "      <td>642978</td>\n",
       "    </tr>\n",
       "    <tr>\n",
       "      <th>0xc6300135a8fcd43123bb486ff06831b5345d0971</th>\n",
       "      <td>0.000177</td>\n",
       "      <td>453387</td>\n",
       "    </tr>\n",
       "    <tr>\n",
       "      <th>0x6cc5f688a315f3dc28a7781717a9a798a59fda7b</th>\n",
       "      <td>0.000011</td>\n",
       "      <td>435743</td>\n",
       "    </tr>\n",
       "    <tr>\n",
       "      <th>0x5dcaa1d8d8132e5bf9cf12deccfc0cecf26a780d</th>\n",
       "      <td>0.000049</td>\n",
       "      <td>202782</td>\n",
       "    </tr>\n",
       "    <tr>\n",
       "      <th>0xfd54078badd5653571726c3370afb127351a6f26</th>\n",
       "      <td>0.000056</td>\n",
       "      <td>172438</td>\n",
       "    </tr>\n",
       "    <tr>\n",
       "      <th>0x343295b49522cfc38af517c58ebb78565c42ed95</th>\n",
       "      <td>0.000050</td>\n",
       "      <td>163688</td>\n",
       "    </tr>\n",
       "    <tr>\n",
       "      <th>0x4b01721f0244e7c5b5f63c20942850e447f5a5ee</th>\n",
       "      <td>0.000025</td>\n",
       "      <td>153769</td>\n",
       "    </tr>\n",
       "    <tr>\n",
       "      <th>0x18916e1a2933cb349145a280473a5de8eb6630cb</th>\n",
       "      <td>0.000055</td>\n",
       "      <td>144264</td>\n",
       "    </tr>\n",
       "    <tr>\n",
       "      <th>0x5baeac0a0417a05733884852aa068b706967e790</th>\n",
       "      <td>0.000005</td>\n",
       "      <td>135305</td>\n",
       "    </tr>\n",
       "    <tr>\n",
       "      <th>0xb2a48f542dc56b89b24c04076cbe565b3dc58e7b</th>\n",
       "      <td>0.000050</td>\n",
       "      <td>127079</td>\n",
       "    </tr>\n",
       "  </tbody>\n",
       "</table>\n",
       "</div>"
      ],
      "text/plain": [
       "                                            percentage  transactions\n",
       "address                                                             \n",
       "0xfbb1b73c4f0bda4f67dca266ce6ef42f520fbb98    0.000027        642978\n",
       "0xc6300135a8fcd43123bb486ff06831b5345d0971    0.000177        453387\n",
       "0x6cc5f688a315f3dc28a7781717a9a798a59fda7b    0.000011        435743\n",
       "0x5dcaa1d8d8132e5bf9cf12deccfc0cecf26a780d    0.000049        202782\n",
       "0xfd54078badd5653571726c3370afb127351a6f26    0.000056        172438\n",
       "0x343295b49522cfc38af517c58ebb78565c42ed95    0.000050        163688\n",
       "0x4b01721f0244e7c5b5f63c20942850e447f5a5ee    0.000025        153769\n",
       "0x18916e1a2933cb349145a280473a5de8eb6630cb    0.000055        144264\n",
       "0x5baeac0a0417a05733884852aa068b706967e790    0.000005        135305\n",
       "0xb2a48f542dc56b89b24c04076cbe565b3dc58e7b    0.000050        127079"
      ]
     },
     "execution_count": 77,
     "metadata": {},
     "output_type": "execute_result"
    }
   ],
   "source": [
    "ranks_with_activity_df.sort_values(\"transactions\", ascending=0).head(10)"
   ]
  },
  {
   "cell_type": "code",
   "execution_count": 78,
   "metadata": {},
   "outputs": [
    {
     "data": {
      "text/plain": [
       "5.458119976529569"
      ]
     },
     "execution_count": 78,
     "metadata": {},
     "output_type": "execute_result"
    }
   ],
   "source": [
    "ranks_with_activity_df.shape[0] * 100 / activity_df.shape[0]"
   ]
  },
  {
   "cell_type": "code",
   "execution_count": 79,
   "metadata": {},
   "outputs": [
    {
     "data": {
      "text/plain": [
       "9.492599230714127"
      ]
     },
     "execution_count": 79,
     "metadata": {},
     "output_type": "execute_result"
    }
   ],
   "source": [
    "ranks_with_activity_df[\"transactions\"].sum() * 100 / activity_df[\"transactions\"].sum()"
   ]
  },
  {
   "cell_type": "code",
   "execution_count": 214,
   "metadata": {},
   "outputs": [
    {
     "data": {
      "text/plain": [
       "11518277"
      ]
     },
     "execution_count": 214,
     "metadata": {},
     "output_type": "execute_result"
    }
   ],
   "source": [
    "ranks_with_activity_df[\"transactions\"].sum()"
   ]
  },
  {
   "cell_type": "markdown",
   "metadata": {},
   "source": [
    "Адреса-участники генезиса Эфира"
   ]
  },
  {
   "cell_type": "code",
   "execution_count": 230,
   "metadata": {},
   "outputs": [],
   "source": [
    "ethereum_genesis = client.execute(\"\"\"\n",
    "    SELECT to, sum(value)\n",
    "    FROM ethereum_internal_transaction\n",
    "    WHERE blockNumber = 0\n",
    "    AND to in(\n",
    "        SELECT from \n",
    "        FROM ethereum_internal_transaction\n",
    "        WHERE blockNumber > 5000000\n",
    "    )\n",
    "    GROUP BY to\n",
    "\"\"\")"
   ]
  },
  {
   "cell_type": "code",
   "execution_count": 231,
   "metadata": {},
   "outputs": [],
   "source": [
    "ethereum_genesis_df = pd.DataFrame(ethereum_genesis, columns=[\"address\", \"eth\"]).set_index(\"address\")"
   ]
  },
  {
   "cell_type": "code",
   "execution_count": 232,
   "metadata": {},
   "outputs": [],
   "source": [
    "ranks_with_genesis_df = ranks_df.merge(ethereum_genesis_df, how=\"inner\", left_index=True, right_index=True)"
   ]
  },
  {
   "cell_type": "code",
   "execution_count": 233,
   "metadata": {
    "scrolled": true
   },
   "outputs": [
    {
     "data": {
      "text/html": [
       "<div>\n",
       "<style scoped>\n",
       "    .dataframe tbody tr th:only-of-type {\n",
       "        vertical-align: middle;\n",
       "    }\n",
       "\n",
       "    .dataframe tbody tr th {\n",
       "        vertical-align: top;\n",
       "    }\n",
       "\n",
       "    .dataframe thead th {\n",
       "        text-align: right;\n",
       "    }\n",
       "</style>\n",
       "<table border=\"1\" class=\"dataframe\">\n",
       "  <thead>\n",
       "    <tr style=\"text-align: right;\">\n",
       "      <th></th>\n",
       "      <th>percentage</th>\n",
       "      <th>eth</th>\n",
       "    </tr>\n",
       "    <tr>\n",
       "      <th>address</th>\n",
       "      <th></th>\n",
       "      <th></th>\n",
       "    </tr>\n",
       "  </thead>\n",
       "  <tbody>\n",
       "    <tr>\n",
       "      <th>0x3bf86ed8a3153ec933786a02ac090301855e576b</th>\n",
       "      <td>5.214880e-08</td>\n",
       "      <td>450000.00</td>\n",
       "    </tr>\n",
       "    <tr>\n",
       "      <th>0x537f9d4d31ef70839d84b0d9cdb72b9afedbdf35</th>\n",
       "      <td>7.491039e-06</td>\n",
       "      <td>70000.00</td>\n",
       "    </tr>\n",
       "    <tr>\n",
       "      <th>0x17125b59ac51cee029e4bd78d7f5947d1ea49bb2</th>\n",
       "      <td>2.666275e-06</td>\n",
       "      <td>22000.00</td>\n",
       "    </tr>\n",
       "    <tr>\n",
       "      <th>0xbfb0ea02feb61dec9e22a5070959330299c43072</th>\n",
       "      <td>1.560317e-04</td>\n",
       "      <td>20000.00</td>\n",
       "    </tr>\n",
       "    <tr>\n",
       "      <th>0x36d85dc3683156e63bf880a9fab7788cf8143a27</th>\n",
       "      <td>6.220137e-06</td>\n",
       "      <td>20000.00</td>\n",
       "    </tr>\n",
       "    <tr>\n",
       "      <th>0x562020e3ed792d2f1835fe5f55417d5111460c6a</th>\n",
       "      <td>1.126609e-06</td>\n",
       "      <td>20000.00</td>\n",
       "    </tr>\n",
       "    <tr>\n",
       "      <th>0xcc943be1222cd1400a2399dd1b459445cf6d54a9</th>\n",
       "      <td>1.325402e-05</td>\n",
       "      <td>12530.00</td>\n",
       "    </tr>\n",
       "    <tr>\n",
       "      <th>0xe6fe0afb9dcedd37b2e22c451ba6feab67348033</th>\n",
       "      <td>2.547596e-06</td>\n",
       "      <td>10000.00</td>\n",
       "    </tr>\n",
       "    <tr>\n",
       "      <th>0x97b91efe7350c2d57e7e406bab18f3617bcde14a</th>\n",
       "      <td>3.038474e-06</td>\n",
       "      <td>9999.98</td>\n",
       "    </tr>\n",
       "    <tr>\n",
       "      <th>0x5aaf1c31254a6e005fba7f5ab0ec79d7fc2b630e</th>\n",
       "      <td>4.872832e-05</td>\n",
       "      <td>5910.00</td>\n",
       "    </tr>\n",
       "  </tbody>\n",
       "</table>\n",
       "</div>"
      ],
      "text/plain": [
       "                                              percentage        eth\n",
       "address                                                            \n",
       "0x3bf86ed8a3153ec933786a02ac090301855e576b  5.214880e-08  450000.00\n",
       "0x537f9d4d31ef70839d84b0d9cdb72b9afedbdf35  7.491039e-06   70000.00\n",
       "0x17125b59ac51cee029e4bd78d7f5947d1ea49bb2  2.666275e-06   22000.00\n",
       "0xbfb0ea02feb61dec9e22a5070959330299c43072  1.560317e-04   20000.00\n",
       "0x36d85dc3683156e63bf880a9fab7788cf8143a27  6.220137e-06   20000.00\n",
       "0x562020e3ed792d2f1835fe5f55417d5111460c6a  1.126609e-06   20000.00\n",
       "0xcc943be1222cd1400a2399dd1b459445cf6d54a9  1.325402e-05   12530.00\n",
       "0xe6fe0afb9dcedd37b2e22c451ba6feab67348033  2.547596e-06   10000.00\n",
       "0x97b91efe7350c2d57e7e406bab18f3617bcde14a  3.038474e-06    9999.98\n",
       "0x5aaf1c31254a6e005fba7f5ab0ec79d7fc2b630e  4.872832e-05    5910.00"
      ]
     },
     "execution_count": 233,
     "metadata": {},
     "output_type": "execute_result"
    }
   ],
   "source": [
    "ranks_with_genesis_df.sort_values(\"eth\", ascending=0).head(10)"
   ]
  },
  {
   "cell_type": "code",
   "execution_count": 234,
   "metadata": {},
   "outputs": [
    {
     "data": {
      "text/plain": [
       "65"
      ]
     },
     "execution_count": 234,
     "metadata": {},
     "output_type": "execute_result"
    }
   ],
   "source": [
    "ranks_with_genesis_df.shape[0]"
   ]
  },
  {
   "cell_type": "code",
   "execution_count": 235,
   "metadata": {},
   "outputs": [
    {
     "data": {
      "text/plain": [
       "6.532663316582915"
      ]
     },
     "execution_count": 235,
     "metadata": {},
     "output_type": "execute_result"
    }
   ],
   "source": [
    "ranks_with_genesis_df.shape[0] * 100 / ethereum_genesis_df.shape[0]"
   ]
  },
  {
   "cell_type": "code",
   "execution_count": 236,
   "metadata": {
    "scrolled": true
   },
   "outputs": [
    {
     "data": {
      "text/plain": [
       "8.766939893356918"
      ]
     },
     "execution_count": 236,
     "metadata": {},
     "output_type": "execute_result"
    }
   ],
   "source": [
    "ranks_with_genesis_df[\"eth\"].sum() * 100 / ethereum_genesis_df[\"eth\"].sum()"
   ]
  },
  {
   "cell_type": "markdown",
   "metadata": {},
   "source": [
    "Адреса майнеров"
   ]
  },
  {
   "cell_type": "code",
   "execution_count": 239,
   "metadata": {},
   "outputs": [],
   "source": [
    "ethereum_miners = client.execute(\"\"\"\n",
    "    SELECT author, count(*)\n",
    "    FROM ethereum_internal_transaction\n",
    "    WHERE author in(\n",
    "        SELECT from \n",
    "        FROM ethereum_internal_transaction\n",
    "        WHERE blockNumber > 5000000\n",
    "    )\n",
    "    GROUP BY author\n",
    "\"\"\")"
   ]
  },
  {
   "cell_type": "code",
   "execution_count": 240,
   "metadata": {},
   "outputs": [],
   "source": [
    "ethereum_miners_df = pd.DataFrame(ethereum_miners, columns=[\"address\", \"blocks\"]).set_index(\"address\")"
   ]
  },
  {
   "cell_type": "code",
   "execution_count": 241,
   "metadata": {},
   "outputs": [],
   "source": [
    "ranks_for_miners_df = ranks_df.merge(ethereum_miners_df, how=\"inner\", left_index=True, right_index=True)"
   ]
  },
  {
   "cell_type": "code",
   "execution_count": 244,
   "metadata": {},
   "outputs": [
    {
     "data": {
      "text/plain": [
       "4.306632213608958"
      ]
     },
     "execution_count": 244,
     "metadata": {},
     "output_type": "execute_result"
    }
   ],
   "source": [
    "ranks_for_miners_df.shape[0] * 100 / ethereum_miners_df.shape[0]"
   ]
  },
  {
   "cell_type": "code",
   "execution_count": 243,
   "metadata": {},
   "outputs": [
    {
     "data": {
      "text/html": [
       "<div>\n",
       "<style scoped>\n",
       "    .dataframe tbody tr th:only-of-type {\n",
       "        vertical-align: middle;\n",
       "    }\n",
       "\n",
       "    .dataframe tbody tr th {\n",
       "        vertical-align: top;\n",
       "    }\n",
       "\n",
       "    .dataframe thead th {\n",
       "        text-align: right;\n",
       "    }\n",
       "</style>\n",
       "<table border=\"1\" class=\"dataframe\">\n",
       "  <thead>\n",
       "    <tr style=\"text-align: right;\">\n",
       "      <th></th>\n",
       "      <th>percentage</th>\n",
       "      <th>blocks</th>\n",
       "    </tr>\n",
       "    <tr>\n",
       "      <th>address</th>\n",
       "      <th></th>\n",
       "      <th></th>\n",
       "    </tr>\n",
       "  </thead>\n",
       "  <tbody>\n",
       "    <tr>\n",
       "      <th>0x441d463d69cb6eaa851eb6138c3efac95c86d17b</th>\n",
       "      <td>7.129562e-08</td>\n",
       "      <td>6488</td>\n",
       "    </tr>\n",
       "    <tr>\n",
       "      <th>0xa855c20a1351acd2690c716e2709c7dff3978d12</th>\n",
       "      <td>1.683240e-06</td>\n",
       "      <td>3051</td>\n",
       "    </tr>\n",
       "    <tr>\n",
       "      <th>0x9dd134d14d1e65f84b706d6f205cd5b1cd03a46b</th>\n",
       "      <td>4.643750e-07</td>\n",
       "      <td>1466</td>\n",
       "    </tr>\n",
       "    <tr>\n",
       "      <th>0xb6cf40aee9990c25d7d6193952af222e120b31c2</th>\n",
       "      <td>7.160081e-08</td>\n",
       "      <td>683</td>\n",
       "    </tr>\n",
       "    <tr>\n",
       "      <th>0x3e8702685ed7826a55acb1c6eb4a6d74638d165c</th>\n",
       "      <td>1.394298e-04</td>\n",
       "      <td>669</td>\n",
       "    </tr>\n",
       "    <tr>\n",
       "      <th>0x11905bd0863ba579023f662d1935e39d0c671933</th>\n",
       "      <td>1.608024e-04</td>\n",
       "      <td>430</td>\n",
       "    </tr>\n",
       "    <tr>\n",
       "      <th>0x4947190fcc30d3fb3a16233b259bfe6b3492339a</th>\n",
       "      <td>7.071169e-08</td>\n",
       "      <td>400</td>\n",
       "    </tr>\n",
       "    <tr>\n",
       "      <th>0xf78465bce3c4620fd124c67d523d2ab80a76c0d8</th>\n",
       "      <td>2.835992e-08</td>\n",
       "      <td>369</td>\n",
       "    </tr>\n",
       "    <tr>\n",
       "      <th>0x3b670df9fbc5866ee356b426361d57911f1da682</th>\n",
       "      <td>6.872996e-07</td>\n",
       "      <td>194</td>\n",
       "    </tr>\n",
       "    <tr>\n",
       "      <th>0x538ee32f26672fefe6b6732bb664a8637ed30a19</th>\n",
       "      <td>1.461556e-06</td>\n",
       "      <td>161</td>\n",
       "    </tr>\n",
       "  </tbody>\n",
       "</table>\n",
       "</div>"
      ],
      "text/plain": [
       "                                              percentage  blocks\n",
       "address                                                         \n",
       "0x441d463d69cb6eaa851eb6138c3efac95c86d17b  7.129562e-08    6488\n",
       "0xa855c20a1351acd2690c716e2709c7dff3978d12  1.683240e-06    3051\n",
       "0x9dd134d14d1e65f84b706d6f205cd5b1cd03a46b  4.643750e-07    1466\n",
       "0xb6cf40aee9990c25d7d6193952af222e120b31c2  7.160081e-08     683\n",
       "0x3e8702685ed7826a55acb1c6eb4a6d74638d165c  1.394298e-04     669\n",
       "0x11905bd0863ba579023f662d1935e39d0c671933  1.608024e-04     430\n",
       "0x4947190fcc30d3fb3a16233b259bfe6b3492339a  7.071169e-08     400\n",
       "0xf78465bce3c4620fd124c67d523d2ab80a76c0d8  2.835992e-08     369\n",
       "0x3b670df9fbc5866ee356b426361d57911f1da682  6.872996e-07     194\n",
       "0x538ee32f26672fefe6b6732bb664a8637ed30a19  1.461556e-06     161"
      ]
     },
     "execution_count": 243,
     "metadata": {},
     "output_type": "execute_result"
    }
   ],
   "source": [
    "ranks_for_miners_df.sort_values(\"blocks\", ascending=False).head(10)"
   ]
  },
  {
   "cell_type": "markdown",
   "metadata": {},
   "source": [
    "Адреса-участники других распределений\n",
    "\n",
    "Считаем распределения с:\n",
    "- Максимумом отправленных событий\n",
    "- Только те сендеры, которые входят в топ-10 отправителей токена"
   ]
  },
  {
   "cell_type": "markdown",
   "metadata": {},
   "source": [
    "Схема:\n",
    "    - token\n",
    "    - address\n",
    "    - distribution_transactions\n",
    "    - address_transactions"
   ]
  },
  {
   "cell_type": "code",
   "execution_count": 91,
   "metadata": {
    "scrolled": false
   },
   "outputs": [],
   "source": [
    "distribution_participants = client.execute(\"\"\"\n",
    "    SELECT token, to, count(*)\n",
    "    FROM ethereum_token_transaction_mv\n",
    "    WHERE transactionHash in(\n",
    "        SELECT transactionHash\n",
    "        FROM ethereum_multitransfer_transaction_mv\n",
    "        WHERE sendedToken in(\n",
    "            SELECT sendedToken\n",
    "            FROM (\n",
    "                SELECT sendedToken, count(distinct(sender)) AS senders\n",
    "                FROM ethereum_multitransfer_transaction_mv\n",
    "                GROUP BY sendedToken\n",
    "                ORDER BY sum(events) DESC\n",
    "                LIMIT 100\n",
    "            )\n",
    "            WHERE senders <= 5\n",
    "        )\n",
    "    )\n",
    "    AND \n",
    "        to not in(SELECT address FROM ethereum_contract)\n",
    "    GROUP BY token, to\n",
    "\"\"\")"
   ]
  },
  {
   "cell_type": "code",
   "execution_count": 92,
   "metadata": {},
   "outputs": [],
   "source": [
    "distribution_participants_df = pd.DataFrame(distribution_participants, columns=[\"token\", \"address\", \"distribution_transactions\"])"
   ]
  },
  {
   "cell_type": "code",
   "execution_count": 95,
   "metadata": {},
   "outputs": [],
   "source": [
    "distributions_string = \",\".join([\"'{}'\".format(address) for address in distribution_participants_df[\"token\"].unique()])"
   ]
  },
  {
   "cell_type": "code",
   "execution_count": 121,
   "metadata": {},
   "outputs": [],
   "source": [
    "participants_activity = client.execute(\"\"\"\n",
    "    SELECT token, from, count(*)\n",
    "    FROM ethereum_token_transaction_mv\n",
    "    WHERE token in({})\n",
    "    GROUP BY token, from\n",
    "\"\"\".format(distributions_string))"
   ]
  },
  {
   "cell_type": "code",
   "execution_count": 122,
   "metadata": {},
   "outputs": [],
   "source": [
    "participants_activity_df = pd.DataFrame(participants_activity, columns=[\"token\", \"address\", \"address_transactions\"])"
   ]
  },
  {
   "cell_type": "code",
   "execution_count": 123,
   "metadata": {},
   "outputs": [],
   "source": [
    "def check_etherscan_error(document):\n",
    "  error = document(\"#ContentPlaceHolder1_lblAdResult + br + br + font\").text()\n",
    "  if \"Sorry, You have reached your maximum request limit for this resource\" in error:\n",
    "    print(\"Error occured!\")\n",
    "    sleep(5)\n",
    "    return False\n",
    "  else:\n",
    "    return True\n",
    "\n",
    "def find_name(address):\n",
    "  document = pq(\"https://etherscan.io/token/{}\".format(address))\n",
    "  while not check_etherscan_error(document):\n",
    "    pass\n",
    "  name = document(\"#address\").text()\n",
    "  return name"
   ]
  },
  {
   "cell_type": "code",
   "execution_count": 124,
   "metadata": {},
   "outputs": [],
   "source": [
    "participants_activity_df = distribution_participants_df.merge(participants_activity_df, how=\"inner\", on=[\"token\", \"address\"])"
   ]
  },
  {
   "cell_type": "code",
   "execution_count": 125,
   "metadata": {},
   "outputs": [],
   "source": [
    "ranks_for_active_participants_df = ranks_df.merge(participants_activity_df, how=\"inner\", left_index=True, right_on=[\"address\"])"
   ]
  },
  {
   "cell_type": "code",
   "execution_count": 126,
   "metadata": {},
   "outputs": [],
   "source": [
    "activity_by_token_df = ranks_for_active_participants_df.groupby(\"token\").size() * 100 / participants_activity_df.groupby(\"token\").size()"
   ]
  },
  {
   "cell_type": "code",
   "execution_count": 127,
   "metadata": {},
   "outputs": [],
   "source": [
    "activity_by_token_df = activity_by_token_df.sort_values(ascending=False).reset_index().rename(columns={0: \"percentage\"})"
   ]
  },
  {
   "cell_type": "code",
   "execution_count": 128,
   "metadata": {},
   "outputs": [
    {
     "data": {
      "application/vnd.jupyter.widget-view+json": {
       "model_id": "dc54e3b2952e437ea3d88290bea77eda",
       "version_major": 2,
       "version_minor": 0
      },
      "text/plain": [
       "HBox(children=(IntProgress(value=0, max=65), HTML(value='')))"
      ]
     },
     "metadata": {},
     "output_type": "display_data"
    },
    {
     "name": "stdout",
     "output_type": "stream",
     "text": [
      "\n"
     ]
    }
   ],
   "source": [
    "activity_by_token_df[\"name\"] = [find_name(address) for address in tqdm_notebook(activity_by_token_df[\"token\"])]"
   ]
  },
  {
   "cell_type": "code",
   "execution_count": 216,
   "metadata": {},
   "outputs": [
    {
     "data": {
      "text/plain": [
       "18559"
      ]
     },
     "execution_count": 216,
     "metadata": {},
     "output_type": "execute_result"
    }
   ],
   "source": [
    "ranks_for_active_participants_df[\"address\"].nunique()"
   ]
  },
  {
   "cell_type": "code",
   "execution_count": 134,
   "metadata": {},
   "outputs": [
    {
     "data": {
      "text/plain": [
       "1.705820230316522"
      ]
     },
     "execution_count": 134,
     "metadata": {},
     "output_type": "execute_result"
    }
   ],
   "source": [
    "ranks_for_active_participants_df[\"address\"].nunique() * 100 / participants_activity_df[\"address\"].nunique()"
   ]
  },
  {
   "cell_type": "markdown",
   "metadata": {},
   "source": [
    "Доля участников из списка среди активных участников эйрдропа"
   ]
  },
  {
   "cell_type": "code",
   "execution_count": 217,
   "metadata": {},
   "outputs": [
    {
     "data": {
      "text/html": [
       "<div>\n",
       "<style scoped>\n",
       "    .dataframe tbody tr th:only-of-type {\n",
       "        vertical-align: middle;\n",
       "    }\n",
       "\n",
       "    .dataframe tbody tr th {\n",
       "        vertical-align: top;\n",
       "    }\n",
       "\n",
       "    .dataframe thead th {\n",
       "        text-align: right;\n",
       "    }\n",
       "</style>\n",
       "<table border=\"1\" class=\"dataframe\">\n",
       "  <thead>\n",
       "    <tr style=\"text-align: right;\">\n",
       "      <th></th>\n",
       "      <th>percentage</th>\n",
       "      <th>name</th>\n",
       "    </tr>\n",
       "    <tr>\n",
       "      <th>token</th>\n",
       "      <th></th>\n",
       "      <th></th>\n",
       "    </tr>\n",
       "  </thead>\n",
       "  <tbody>\n",
       "    <tr>\n",
       "      <th>0xf0df09387693690b1e00d71eabf5e98e7955cff4</th>\n",
       "      <td>66.666667</td>\n",
       "      <td>ENDO.network Promo Token</td>\n",
       "    </tr>\n",
       "    <tr>\n",
       "      <th>0x1a8f615f0dd39b9de8ad26db89cfa76f7c9d0274</th>\n",
       "      <td>41.463415</td>\n",
       "      <td>UTour</td>\n",
       "    </tr>\n",
       "    <tr>\n",
       "      <th>0xd4ae0807740df6fbaa7a258907132a2ac8d52fbc</th>\n",
       "      <td>12.845953</td>\n",
       "      <td>KEOSToken</td>\n",
       "    </tr>\n",
       "    <tr>\n",
       "      <th>0xa720911a58d948fc9328560aecfc51e907404fc4</th>\n",
       "      <td>11.764706</td>\n",
       "      <td>FOR Agriculture Coin</td>\n",
       "    </tr>\n",
       "    <tr>\n",
       "      <th>0xf2eab3a2034d3f6b63734d2e08262040e3ff7b48</th>\n",
       "      <td>10.559006</td>\n",
       "      <td>CANDY</td>\n",
       "    </tr>\n",
       "    <tr>\n",
       "      <th>0xd4de05944572d142fbf70f3f010891a35ac15188</th>\n",
       "      <td>9.969789</td>\n",
       "      <td>Bulleon Promo Token</td>\n",
       "    </tr>\n",
       "    <tr>\n",
       "      <th>0x7b2f9706cd8473b4f5b7758b0171a9933fc6c4d6</th>\n",
       "      <td>9.926082</td>\n",
       "      <td>An Etheal Promo</td>\n",
       "    </tr>\n",
       "    <tr>\n",
       "      <th>0x4f4d22ca77222ae3d51e308c9a8f0e564f98e77a</th>\n",
       "      <td>9.615385</td>\n",
       "      <td>Bulleon Promo Token</td>\n",
       "    </tr>\n",
       "    <tr>\n",
       "      <th>0xbc8deee89f1cf4b661514185aa1ab780336c4c4a</th>\n",
       "      <td>9.589041</td>\n",
       "      <td>Poker IO</td>\n",
       "    </tr>\n",
       "    <tr>\n",
       "      <th>0xeb021dd3e42dc6fdb6cde54d0c4a09f82a6bca29</th>\n",
       "      <td>9.055877</td>\n",
       "      <td>FNKOSToken</td>\n",
       "    </tr>\n",
       "  </tbody>\n",
       "</table>\n",
       "</div>"
      ],
      "text/plain": [
       "                                            percentage  \\\n",
       "token                                                    \n",
       "0xf0df09387693690b1e00d71eabf5e98e7955cff4   66.666667   \n",
       "0x1a8f615f0dd39b9de8ad26db89cfa76f7c9d0274   41.463415   \n",
       "0xd4ae0807740df6fbaa7a258907132a2ac8d52fbc   12.845953   \n",
       "0xa720911a58d948fc9328560aecfc51e907404fc4   11.764706   \n",
       "0xf2eab3a2034d3f6b63734d2e08262040e3ff7b48   10.559006   \n",
       "0xd4de05944572d142fbf70f3f010891a35ac15188    9.969789   \n",
       "0x7b2f9706cd8473b4f5b7758b0171a9933fc6c4d6    9.926082   \n",
       "0x4f4d22ca77222ae3d51e308c9a8f0e564f98e77a    9.615385   \n",
       "0xbc8deee89f1cf4b661514185aa1ab780336c4c4a    9.589041   \n",
       "0xeb021dd3e42dc6fdb6cde54d0c4a09f82a6bca29    9.055877   \n",
       "\n",
       "                                                                name  \n",
       "token                                                                 \n",
       "0xf0df09387693690b1e00d71eabf5e98e7955cff4  ENDO.network Promo Token  \n",
       "0x1a8f615f0dd39b9de8ad26db89cfa76f7c9d0274                     UTour  \n",
       "0xd4ae0807740df6fbaa7a258907132a2ac8d52fbc                 KEOSToken  \n",
       "0xa720911a58d948fc9328560aecfc51e907404fc4      FOR Agriculture Coin  \n",
       "0xf2eab3a2034d3f6b63734d2e08262040e3ff7b48                     CANDY  \n",
       "0xd4de05944572d142fbf70f3f010891a35ac15188       Bulleon Promo Token  \n",
       "0x7b2f9706cd8473b4f5b7758b0171a9933fc6c4d6           An Etheal Promo  \n",
       "0x4f4d22ca77222ae3d51e308c9a8f0e564f98e77a       Bulleon Promo Token  \n",
       "0xbc8deee89f1cf4b661514185aa1ab780336c4c4a                  Poker IO  \n",
       "0xeb021dd3e42dc6fdb6cde54d0c4a09f82a6bca29                FNKOSToken  "
      ]
     },
     "execution_count": 217,
     "metadata": {},
     "output_type": "execute_result"
    }
   ],
   "source": [
    "activity_by_token_df.head(10).set_index(\"token\")"
   ]
  }
 ],
 "metadata": {
  "kernelspec": {
   "display_name": "Python 3",
   "language": "python",
   "name": "python3"
  },
  "language_info": {
   "codemirror_mode": {
    "name": "ipython",
    "version": 3
   },
   "file_extension": ".py",
   "mimetype": "text/x-python",
   "name": "python",
   "nbconvert_exporter": "python",
   "pygments_lexer": "ipython3",
   "version": "3.6.6"
  }
 },
 "nbformat": 4,
 "nbformat_minor": 2
}
